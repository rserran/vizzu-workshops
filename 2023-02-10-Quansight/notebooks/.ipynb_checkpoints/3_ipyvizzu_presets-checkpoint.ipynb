{
 "cells": [
  {
   "cell_type": "markdown",
   "metadata": {},
   "source": [
    "# ipyvizzu 2nd Example - Chart Presets\n",
    "\n",
    "#### List of all presets: https://ipyvizzu.vizzuhq.com/latest/examples/presets\n",
    "\n",
    "#### The revenue of different music formats in the U.S. between 1973 - 2020"
   ]
  },
  {
   "cell_type": "code",
   "execution_count": 1,
   "metadata": {
    "scrolled": true
   },
   "outputs": [
    {
     "data": {
      "text/html": [
       "<div>\n",
       "<style scoped>\n",
       "    .dataframe tbody tr th:only-of-type {\n",
       "        vertical-align: middle;\n",
       "    }\n",
       "\n",
       "    .dataframe tbody tr th {\n",
       "        vertical-align: top;\n",
       "    }\n",
       "\n",
       "    .dataframe thead th {\n",
       "        text-align: right;\n",
       "    }\n",
       "</style>\n",
       "<table border=\"1\" class=\"dataframe\">\n",
       "  <thead>\n",
       "    <tr style=\"text-align: right;\">\n",
       "      <th></th>\n",
       "      <th>Year</th>\n",
       "      <th>Format</th>\n",
       "      <th>Revenue [m$]</th>\n",
       "    </tr>\n",
       "  </thead>\n",
       "  <tbody>\n",
       "    <tr>\n",
       "      <th>0</th>\n",
       "      <td>1973</td>\n",
       "      <td>DVD</td>\n",
       "      <td>0.0</td>\n",
       "    </tr>\n",
       "    <tr>\n",
       "      <th>1</th>\n",
       "      <td>1973</td>\n",
       "      <td>Other</td>\n",
       "      <td>0.0</td>\n",
       "    </tr>\n",
       "    <tr>\n",
       "      <th>2</th>\n",
       "      <td>1973</td>\n",
       "      <td>Tapes</td>\n",
       "      <td>2941.0</td>\n",
       "    </tr>\n",
       "    <tr>\n",
       "      <th>3</th>\n",
       "      <td>1973</td>\n",
       "      <td>Download</td>\n",
       "      <td>0.0</td>\n",
       "    </tr>\n",
       "    <tr>\n",
       "      <th>4</th>\n",
       "      <td>1973</td>\n",
       "      <td>Streaming</td>\n",
       "      <td>0.0</td>\n",
       "    </tr>\n",
       "    <tr>\n",
       "      <th>...</th>\n",
       "      <td>...</td>\n",
       "      <td>...</td>\n",
       "      <td>...</td>\n",
       "    </tr>\n",
       "    <tr>\n",
       "      <th>379</th>\n",
       "      <td>2020</td>\n",
       "      <td>Download</td>\n",
       "      <td>653.0</td>\n",
       "    </tr>\n",
       "    <tr>\n",
       "      <th>380</th>\n",
       "      <td>2020</td>\n",
       "      <td>Streaming</td>\n",
       "      <td>10075.0</td>\n",
       "    </tr>\n",
       "    <tr>\n",
       "      <th>381</th>\n",
       "      <td>2020</td>\n",
       "      <td>Cassette</td>\n",
       "      <td>0.0</td>\n",
       "    </tr>\n",
       "    <tr>\n",
       "      <th>382</th>\n",
       "      <td>2020</td>\n",
       "      <td>Vinyl</td>\n",
       "      <td>626.0</td>\n",
       "    </tr>\n",
       "    <tr>\n",
       "      <th>383</th>\n",
       "      <td>2020</td>\n",
       "      <td>CD</td>\n",
       "      <td>484.0</td>\n",
       "    </tr>\n",
       "  </tbody>\n",
       "</table>\n",
       "<p>384 rows × 3 columns</p>\n",
       "</div>"
      ],
      "text/plain": [
       "     Year     Format  Revenue [m$]\n",
       "0    1973        DVD           0.0\n",
       "1    1973      Other           0.0\n",
       "2    1973      Tapes        2941.0\n",
       "3    1973   Download           0.0\n",
       "4    1973  Streaming           0.0\n",
       "..    ...        ...           ...\n",
       "379  2020   Download         653.0\n",
       "380  2020  Streaming       10075.0\n",
       "381  2020   Cassette           0.0\n",
       "382  2020      Vinyl         626.0\n",
       "383  2020         CD         484.0\n",
       "\n",
       "[384 rows x 3 columns]"
      ]
     },
     "metadata": {},
     "output_type": "display_data"
    }
   ],
   "source": [
    "import pandas as pd\n",
    "from ipyvizzu import Chart, Data, Config, Style\n",
    "\n",
    "data_frame = pd.read_csv(\"https://raw.githubusercontent.com/vizzuhq/vizzu-workshops/main/2023-02-10-Quansight/data/music.csv\", \n",
    "                         dtype={\"Year\": str}\n",
    "                        )\n",
    "data = Data()\n",
    "data.add_data_frame(data_frame)\n",
    "\n",
    "display(data_frame)"
   ]
  },
  {
   "cell_type": "code",
   "execution_count": 9,
   "metadata": {
    "scrolled": false
   },
   "outputs": [
    {
     "data": {
      "application/javascript": [
       "if (window.IpyVizzu) { window.IpyVizzu.clearInhibitScroll(element); }"
      ]
     },
     "metadata": {},
     "output_type": "display_data"
    },
    {
     "data": {
      "application/javascript": [
       "if (!window.IpyVizzu) {\n",
       "    class IpyVizzu \n",
       "    {\n",
       "        constructor()\n",
       "        {\n",
       "            IpyVizzu.inhibitScroll = false;\n",
       "            IpyVizzu.nbconvert = false;\n",
       "            document.addEventListener('wheel', (evt) => { IpyVizzu.inhibitScroll = true }, true);\n",
       "            document.addEventListener('keydown', (evt) => { IpyVizzu.inhibitScroll = true }, true);\n",
       "            document.addEventListener('touchstart', (evt) => { IpyVizzu.inhibitScroll = true }, true);\n",
       "\n",
       "            this.elements = {};\n",
       "            this.charts = {};\n",
       "            \n",
       "            this.snapshots = {};\n",
       "            this.displays = {};\n",
       "\n",
       "            this.events = {};\n",
       "            this.loaded = {};\n",
       "            this.libs = {};\n",
       "        }\n",
       "\n",
       "        static clearInhibitScroll(element)\n",
       "        {\n",
       "            if (IpyVizzu.nbconvert) IpyVizzu._hide(element);\n",
       "            IpyVizzu.inhibitScroll = false;\n",
       "        }\n",
       "\n",
       "        createChart(element, chartId, vizzulib, divWidth, divHeight) {\n",
       "            this.elements[chartId] = document.createElement(\"div\");\n",
       "            this.elements[chartId].style.cssText = `width: ${divWidth}; height: ${divHeight};`;\n",
       "            this.loaded[chartId] = import(vizzulib);\n",
       "            this.charts[chartId] = this.loaded[chartId].then(Vizzu => {\n",
       "                this.libs[chartId] = Vizzu.default;\n",
       "                return new Vizzu.default(this.elements[chartId]).initializing\n",
       "            });\n",
       "            this._moveHere(chartId, element);\n",
       "        }\n",
       "\n",
       "        animate(element, chartId, displayTarget, scrollEnabled, getChartTarget, chartAnimOpts)\n",
       "        {\n",
       "            if (IpyVizzu.nbconvert) IpyVizzu._hide(element);\n",
       "            if (displayTarget === 'end') this._moveHere(chartId, element);\n",
       "            this.charts[chartId] = this.charts[chartId].then(chart => {\n",
       "                if (displayTarget === 'actual') this._moveHere(chartId, element);\n",
       "                this._scroll(chartId, scrollEnabled);\n",
       "                let chartTarget = getChartTarget(this.libs[chartId]);\n",
       "                if (typeof chartTarget === 'string') chartTarget = this.snapshots[chartTarget];\n",
       "                return chart.animate(chartTarget, chartAnimOpts);\n",
       "            });\n",
       "        }\n",
       "\n",
       "        store(element, chartId, id)\n",
       "        {\n",
       "            if (IpyVizzu.nbconvert) IpyVizzu._hide(element);\n",
       "            this.charts[chartId] = this.charts[chartId].then(chart => {\n",
       "                this.snapshots[id] = chart.store();\n",
       "                return chart;\n",
       "            });\n",
       "        }\n",
       "\n",
       "        feature(element, chartId, name, enabled)\n",
       "        {\n",
       "            if (IpyVizzu.nbconvert) IpyVizzu._hide(element);\n",
       "            this.charts[chartId] = this.charts[chartId].then(chart => {\n",
       "                chart.feature(name, enabled);\n",
       "                return chart;\n",
       "            });\n",
       "        }\n",
       "\n",
       "        setEvent(element, chartId, id, event, handler)\n",
       "        {\n",
       "            if (IpyVizzu.nbconvert) IpyVizzu._hide(element);\n",
       "            this.charts[chartId] = this.charts[chartId].then(chart => {\n",
       "                this.events[id] = handler;\n",
       "                chart.on(event, this.events[id]);\n",
       "                return chart;\n",
       "            });\n",
       "        }\n",
       "\n",
       "        clearEvent(element, chartId, id, event)\n",
       "        {\n",
       "            if (IpyVizzu.nbconvert) IpyVizzu._hide(element);\n",
       "            this.charts[chartId] = this.charts[chartId].then(chart => {\n",
       "                chart.off(event, this.events[id]);\n",
       "                return chart;\n",
       "            });\n",
       "        }\n",
       "\n",
       "        log(element, chartId, chartProperty)\n",
       "        {\n",
       "            if (IpyVizzu.nbconvert) IpyVizzu._hide(element);\n",
       "            this.charts[chartId] = this.charts[chartId].then(chart => {\n",
       "                console.log(chart[chartProperty])\n",
       "                return chart;\n",
       "            });\n",
       "        }\n",
       "\n",
       "        _moveHere(chartId, element)\n",
       "        {\n",
       "            if (IpyVizzu.nbconvert) IpyVizzu._display(this.elements[chartId], element);\n",
       "            element.append(this.elements[chartId]);\n",
       "        }\n",
       "\n",
       "        _scroll(chartId, enabled)\n",
       "        {\n",
       "            if (!IpyVizzu.inhibitScroll && enabled) {\n",
       "                this.elements[chartId].scrollIntoView({ behavior: \"auto\", block: \"center\" });\n",
       "            }\n",
       "        }\n",
       "\n",
       "        static _hide(element) {\n",
       "            document.getElementById(element.selector.substring(1)).parentNode.style.display = 'none';\n",
       "        }\n",
       "\n",
       "        static _display(prevElement, element) {\n",
       "            if (prevElement.parentNode) {\n",
       "                prevElement.parentNode.style.display = \"none\";\n",
       "            }\n",
       "            document.getElementById(element.selector.substring(1)).parentNode.style.display = 'flex';\n",
       "            document.getElementById(element.selector.substring(1)).parentNode.style.margin = 'auto';\n",
       "        }\n",
       "    }\n",
       "\n",
       "    window.IpyVizzu = IpyVizzu;\n",
       "    window.ipyvizzu = new window.IpyVizzu();\n",
       "}"
      ]
     },
     "metadata": {},
     "output_type": "display_data"
    },
    {
     "data": {
      "application/javascript": [
       "window.ipyvizzu.createChart(element, '77dcc17', 'https://cdn.jsdelivr.net/npm/vizzu@~0.6.0/dist/vizzu.min.js', '100%', '360px');"
      ]
     },
     "metadata": {},
     "output_type": "display_data"
    },
    {
     "data": {
      "application/javascript": [
       "window.ipyvizzu.animate(element, '77dcc17', 'actual', false, lib => { return {\"data\": {\"series\": [{\"name\": \"Year\", \"type\": \"dimension\", \"values\": [\"1973\", \"1973\", \"1973\", \"1973\", \"1973\", \"1973\", \"1973\", \"1973\", \"1974\", \"1974\", \"1974\", \"1974\", \"1974\", \"1974\", \"1974\", \"1974\", \"1975\", \"1975\", \"1975\", \"1975\", \"1975\", \"1975\", \"1975\", \"1975\", \"1976\", \"1976\", \"1976\", \"1976\", \"1976\", \"1976\", \"1976\", \"1976\", \"1977\", \"1977\", \"1977\", \"1977\", \"1977\", \"1977\", \"1977\", \"1977\", \"1978\", \"1978\", \"1978\", \"1978\", \"1978\", \"1978\", \"1978\", \"1978\", \"1979\", \"1979\", \"1979\", \"1979\", \"1979\", \"1979\", \"1979\", \"1979\", \"1980\", \"1980\", \"1980\", \"1980\", \"1980\", \"1980\", \"1980\", \"1980\", \"1981\", \"1981\", \"1981\", \"1981\", \"1981\", \"1981\", \"1981\", \"1981\", \"1982\", \"1982\", \"1982\", \"1982\", \"1982\", \"1982\", \"1982\", \"1982\", \"1983\", \"1983\", \"1983\", \"1983\", \"1983\", \"1983\", \"1983\", \"1983\", \"1984\", \"1984\", \"1984\", \"1984\", \"1984\", \"1984\", \"1984\", \"1984\", \"1985\", \"1985\", \"1985\", \"1985\", \"1985\", \"1985\", \"1985\", \"1985\", \"1986\", \"1986\", \"1986\", \"1986\", \"1986\", \"1986\", \"1986\", \"1986\", \"1987\", \"1987\", \"1987\", \"1987\", \"1987\", \"1987\", \"1987\", \"1987\", \"1988\", \"1988\", \"1988\", \"1988\", \"1988\", \"1988\", \"1988\", \"1988\", \"1989\", \"1989\", \"1989\", \"1989\", \"1989\", \"1989\", \"1989\", \"1989\", \"1990\", \"1990\", \"1990\", \"1990\", \"1990\", \"1990\", \"1990\", \"1990\", \"1991\", \"1991\", \"1991\", \"1991\", \"1991\", \"1991\", \"1991\", \"1991\", \"1992\", \"1992\", \"1992\", \"1992\", \"1992\", \"1992\", \"1992\", \"1992\", \"1993\", \"1993\", \"1993\", \"1993\", \"1993\", \"1993\", \"1993\", \"1993\", \"1994\", \"1994\", \"1994\", \"1994\", \"1994\", \"1994\", \"1994\", \"1994\", \"1995\", \"1995\", \"1995\", \"1995\", \"1995\", \"1995\", \"1995\", \"1995\", \"1996\", \"1996\", \"1996\", \"1996\", \"1996\", \"1996\", \"1996\", \"1996\", \"1997\", \"1997\", \"1997\", \"1997\", \"1997\", \"1997\", \"1997\", \"1997\", \"1998\", \"1998\", \"1998\", \"1998\", \"1998\", \"1998\", \"1998\", \"1998\", \"1999\", \"1999\", \"1999\", \"1999\", \"1999\", \"1999\", \"1999\", \"1999\", \"2000\", \"2000\", \"2000\", \"2000\", \"2000\", \"2000\", \"2000\", \"2000\", \"2001\", \"2001\", \"2001\", \"2001\", \"2001\", \"2001\", \"2001\", \"2001\", \"2002\", \"2002\", \"2002\", \"2002\", \"2002\", \"2002\", \"2002\", \"2002\", \"2003\", \"2003\", \"2003\", \"2003\", \"2003\", \"2003\", \"2003\", \"2003\", \"2004\", \"2004\", \"2004\", \"2004\", \"2004\", \"2004\", \"2004\", \"2004\", \"2005\", \"2005\", \"2005\", \"2005\", \"2005\", \"2005\", \"2005\", \"2005\", \"2006\", \"2006\", \"2006\", \"2006\", \"2006\", \"2006\", \"2006\", \"2006\", \"2007\", \"2007\", \"2007\", \"2007\", \"2007\", \"2007\", \"2007\", \"2007\", \"2008\", \"2008\", \"2008\", \"2008\", \"2008\", \"2008\", \"2008\", \"2008\", \"2009\", \"2009\", \"2009\", \"2009\", \"2009\", \"2009\", \"2009\", \"2009\", \"2010\", \"2010\", \"2010\", \"2010\", \"2010\", \"2010\", \"2010\", \"2010\", \"2011\", \"2011\", \"2011\", \"2011\", \"2011\", \"2011\", \"2011\", \"2011\", \"2012\", \"2012\", \"2012\", \"2012\", \"2012\", \"2012\", \"2012\", \"2012\", \"2013\", \"2013\", \"2013\", \"2013\", \"2013\", \"2013\", \"2013\", \"2013\", \"2014\", \"2014\", \"2014\", \"2014\", \"2014\", \"2014\", \"2014\", \"2014\", \"2015\", \"2015\", \"2015\", \"2015\", \"2015\", \"2015\", \"2015\", \"2015\", \"2016\", \"2016\", \"2016\", \"2016\", \"2016\", \"2016\", \"2016\", \"2016\", \"2017\", \"2017\", \"2017\", \"2017\", \"2017\", \"2017\", \"2017\", \"2017\", \"2018\", \"2018\", \"2018\", \"2018\", \"2018\", \"2018\", \"2018\", \"2018\", \"2019\", \"2019\", \"2019\", \"2019\", \"2019\", \"2019\", \"2019\", \"2019\", \"2020\", \"2020\", \"2020\", \"2020\", \"2020\", \"2020\", \"2020\", \"2020\"]}, {\"name\": \"Format\", \"type\": \"dimension\", \"values\": [\"DVD\", \"Other\", \"Tapes\", \"Download\", \"Streaming\", \"Cassette\", \"Vinyl\", \"CD\", \"DVD\", \"Other\", \"Tapes\", \"Download\", \"Streaming\", \"Cassette\", \"Vinyl\", \"CD\", \"DVD\", \"Other\", \"Tapes\", \"Download\", \"Streaming\", \"Cassette\", \"Vinyl\", \"CD\", \"DVD\", \"Other\", \"Tapes\", \"Download\", \"Streaming\", \"Cassette\", \"Vinyl\", \"CD\", \"DVD\", \"Other\", \"Tapes\", \"Download\", \"Streaming\", \"Cassette\", \"Vinyl\", \"CD\", \"DVD\", \"Other\", \"Tapes\", \"Download\", \"Streaming\", \"Cassette\", \"Vinyl\", \"CD\", \"DVD\", \"Other\", \"Tapes\", \"Download\", \"Streaming\", \"Cassette\", \"Vinyl\", \"CD\", \"DVD\", \"Other\", \"Tapes\", \"Download\", \"Streaming\", \"Cassette\", \"Vinyl\", \"CD\", \"DVD\", \"Other\", \"Tapes\", \"Download\", \"Streaming\", \"Cassette\", \"Vinyl\", \"CD\", \"DVD\", \"Other\", \"Tapes\", \"Download\", \"Streaming\", \"Cassette\", \"Vinyl\", \"CD\", \"DVD\", \"Other\", \"Tapes\", \"Download\", \"Streaming\", \"Cassette\", \"Vinyl\", \"CD\", \"DVD\", \"Other\", \"Tapes\", \"Download\", \"Streaming\", \"Cassette\", \"Vinyl\", \"CD\", \"DVD\", \"Other\", \"Tapes\", \"Download\", \"Streaming\", \"Cassette\", \"Vinyl\", \"CD\", \"DVD\", \"Other\", \"Tapes\", \"Download\", \"Streaming\", \"Cassette\", \"Vinyl\", \"CD\", \"DVD\", \"Other\", \"Tapes\", \"Download\", \"Streaming\", \"Cassette\", \"Vinyl\", \"CD\", \"DVD\", \"Other\", \"Tapes\", \"Download\", \"Streaming\", \"Cassette\", \"Vinyl\", \"CD\", \"DVD\", \"Other\", \"Tapes\", \"Download\", \"Streaming\", \"Cassette\", \"Vinyl\", \"CD\", \"DVD\", \"Other\", \"Tapes\", \"Download\", \"Streaming\", \"Cassette\", \"Vinyl\", \"CD\", \"DVD\", \"Other\", \"Tapes\", \"Download\", \"Streaming\", \"Cassette\", \"Vinyl\", \"CD\", \"DVD\", \"Other\", \"Tapes\", \"Download\", \"Streaming\", \"Cassette\", \"Vinyl\", \"CD\", \"DVD\", \"Other\", \"Tapes\", \"Download\", \"Streaming\", \"Cassette\", \"Vinyl\", \"CD\", \"DVD\", \"Other\", \"Tapes\", \"Download\", \"Streaming\", \"Cassette\", \"Vinyl\", \"CD\", \"DVD\", \"Other\", \"Tapes\", \"Download\", \"Streaming\", \"Cassette\", \"Vinyl\", \"CD\", \"DVD\", \"Other\", \"Tapes\", \"Download\", \"Streaming\", \"Cassette\", \"Vinyl\", \"CD\", \"DVD\", \"Other\", \"Tapes\", \"Download\", \"Streaming\", \"Cassette\", \"Vinyl\", \"CD\", \"DVD\", \"Other\", \"Tapes\", \"Download\", \"Streaming\", \"Cassette\", \"Vinyl\", \"CD\", \"DVD\", \"Other\", \"Tapes\", \"Download\", \"Streaming\", \"Cassette\", \"Vinyl\", \"CD\", \"DVD\", \"Other\", \"Tapes\", \"Download\", \"Streaming\", \"Cassette\", \"Vinyl\", \"CD\", \"DVD\", \"Other\", \"Tapes\", \"Download\", \"Streaming\", \"Cassette\", \"Vinyl\", \"CD\", \"DVD\", \"Other\", \"Tapes\", \"Download\", \"Streaming\", \"Cassette\", \"Vinyl\", \"CD\", \"DVD\", \"Other\", \"Tapes\", \"Download\", \"Streaming\", \"Cassette\", \"Vinyl\", \"CD\", \"DVD\", \"Other\", \"Tapes\", \"Download\", \"Streaming\", \"Cassette\", \"Vinyl\", \"CD\", \"DVD\", \"Other\", \"Tapes\", \"Download\", \"Streaming\", \"Cassette\", \"Vinyl\", \"CD\", \"DVD\", \"Other\", \"Tapes\", \"Download\", \"Streaming\", \"Cassette\", \"Vinyl\", \"CD\", \"DVD\", \"Other\", \"Tapes\", \"Download\", \"Streaming\", \"Cassette\", \"Vinyl\", \"CD\", \"DVD\", \"Other\", \"Tapes\", \"Download\", \"Streaming\", \"Cassette\", \"Vinyl\", \"CD\", \"DVD\", \"Other\", \"Tapes\", \"Download\", \"Streaming\", \"Cassette\", \"Vinyl\", \"CD\", \"DVD\", \"Other\", \"Tapes\", \"Download\", \"Streaming\", \"Cassette\", \"Vinyl\", \"CD\", \"DVD\", \"Other\", \"Tapes\", \"Download\", \"Streaming\", \"Cassette\", \"Vinyl\", \"CD\", \"DVD\", \"Other\", \"Tapes\", \"Download\", \"Streaming\", \"Cassette\", \"Vinyl\", \"CD\", \"DVD\", \"Other\", \"Tapes\", \"Download\", \"Streaming\", \"Cassette\", \"Vinyl\", \"CD\", \"DVD\", \"Other\", \"Tapes\", \"Download\", \"Streaming\", \"Cassette\", \"Vinyl\", \"CD\", \"DVD\", \"Other\", \"Tapes\", \"Download\", \"Streaming\", \"Cassette\", \"Vinyl\", \"CD\", \"DVD\", \"Other\", \"Tapes\", \"Download\", \"Streaming\", \"Cassette\", \"Vinyl\", \"CD\", \"DVD\", \"Other\", \"Tapes\", \"Download\", \"Streaming\", \"Cassette\", \"Vinyl\", \"CD\", \"DVD\", \"Other\", \"Tapes\", \"Download\", \"Streaming\", \"Cassette\", \"Vinyl\", \"CD\", \"DVD\", \"Other\", \"Tapes\", \"Download\", \"Streaming\", \"Cassette\", \"Vinyl\", \"CD\", \"DVD\", \"Other\", \"Tapes\", \"Download\", \"Streaming\", \"Cassette\", \"Vinyl\", \"CD\"]}, {\"name\": \"Revenue [m$]\", \"type\": \"measure\", \"values\": [0.0, 0.0, 2941.0, 0.0, 0.0, 443.0, 8371.0, 0.0, 0.0, 0.0, 2953.0, 0.0, 0.0, 458.0, 8137.0, 0.0, 0.0, 0.0, 2854.0, 0.0, 0.0, 475.0, 8161.0, 0.0, 0.0, 0.0, 3108.0, 0.0, 0.0, 663.0, 8679.0, 0.0, 0.0, 0.0, 3464.0, 0.0, 0.0, 1066.0, 10422.0, 0.0, 0.0, 0.0, 3763.0, 0.0, 0.0, 1785.0, 10851.0, 0.0, 0.0, 0.0, 2439.0, 0.0, 0.0, 2070.0, 8594.0, 0.0, 0.0, 0.0, 1655.0, 0.0, 0.0, 2214.0, 7695.0, 0.0, 0.0, 0.0, 891.0, 0.0, 0.0, 3026.0, 7397.0, 0.0, 0.0, 0.0, 97.0, 0.0, 0.0, 3713.0, 5922.0, 0.0, 0.0, 0.0, 0.0, 0.0, 0.0, 4706.0, 5089.0, 45.0, 0.0, 0.0, 0.0, 0.0, 0.0, 5938.0, 4602.0, 257.0, 0.0, 0.0, 0.0, 0.0, 0.0, 5800.0, 3756.0, 937.0, 0.0, 0.0, 0.0, 0.0, 0.0, 5902.0, 2860.0, 2196.0, 0.0, 0.0, 0.0, 0.0, 0.0, 6776.0, 2270.0, 3631.0, 0.0, 0.0, 0.0, 0.0, 0.0, 7531.0, 1559.0, 4594.0, 0.0, 241.0, 0.0, 0.0, 0.0, 7389.0, 703.0, 5401.0, 0.0, 341.0, 0.0, 0.0, 0.0, 7387.0, 358.0, 6847.0, 0.0, 224.0, 0.0, 0.0, 0.0, 6176.0, 177.0, 8309.0, 0.0, 290.0, 0.0, 0.0, 0.0, 6300.0, 147.0, 9909.0, 0.0, 382.0, 0.0, 0.0, 0.0, 5757.0, 111.0, 11744.0, 0.0, 404.0, 0.0, 0.0, 0.0, 5678.0, 114.0, 14880.0, 0.0, 374.0, 0.0, 0.0, 0.0, 4313.0, 122.0, 16113.0, 0.0, 389.0, 0.0, 0.0, 0.0, 3455.0, 139.0, 16691.0, 0.0, 522.0, 0.0, 0.0, 0.0, 2671.0, 111.0, 16428.0, 0.0, 807.0, 0.0, 0.0, 0.0, 2404.0, 95.0, 18465.0, 0.0, 585.0, 0.0, 0.0, 0.0, 1724.0, 93.0, 20255.0, 0.0, 424.0, 0.0, 0.0, 0.0, 948.0, 81.0, 20075.0, 8.8, 481.0, 0.0, 0.0, 0.0, 531.0, 86.0, 18982.0, 12.0, 415.0, 0.0, 0.0, 0.0, 302.0, 65.0, 17355.0, 11.0, 562.0, 0.0, 0.0, 0.0, 152.0, 61.0, 15888.0, 8.9, 832.0, 0.0, 251.0, 9.5, 32.0, 54.0, 15726.0, 15.0, 1358.0, 0.0, 666.0, 225.0, 17.0, 36.0, 13969.0, 3.1, 1575.0, 0.0, 1125.0, 307.0, 4.8, 33.0, 12049.0, 3.5, 1927.0, 0.0, 1669.0, 337.0, 3.7, 34.0, 9324.0, 1.4, 1451.0, 0.0, 2054.0, 386.0, 1.1, 72.0, 6585.0, 1.9, 1351.0, 0.0, 2361.0, 436.0, 0.0, 80.0, 5217.0, 1.1, 974.0, 0.0, 2665.0, 548.0, 0.0, 108.0, 4028.0, 0.3, 721.0, 0.0, 3021.0, 752.0, 0.0, 143.0, 3573.0, 0.2, 515.0, 0.0, 3235.0, 1164.0, 0.0, 187.0, 2807.0, 0.0, 445.0, 0.0, 3136.0, 1616.0, 0.0, 237.0, 2382.0, 2.3, 381.0, 0.0, 2719.0, 1998.0, 0.0, 273.0, 1947.0, 5.9, 362.0, 0.0, 2464.0, 2546.0, 0.0, 370.0, 1580.0, 3.1, 357.0, 0.0, 1930.0, 4179.0, 0.0, 389.0, 1221.0, 0.3, 325.0, 0.0, 1412.0, 5721.0, 0.0, 417.0, 1103.0, 0.3, 351.0, 0.0, 1038.0, 7491.0, 0.0, 438.0, 718.0, 1.3, 333.0, 0.0, 810.0, 8992.0, 0.0, 492.0, 639.0, 1.8, 314.0, 0.0, 653.0, 10075.0, 0.0, 626.0, 484.0]}]}} }, undefined);"
      ]
     },
     "metadata": {},
     "output_type": "display_data"
    },
    {
     "data": {
      "application/javascript": [
       "window.ipyvizzu.animate(element, '77dcc17', 'actual', false, lib => { return {\"config\": lib.presets.bar({'x': 'Revenue [m$]', 'y': 'Format', 'title': 'Revenue by Music Format 1973-2020'})} }, undefined);"
      ]
     },
     "metadata": {},
     "output_type": "display_data"
    }
   ],
   "source": [
    "chart = Chart(width=\"100%\", height=\"360px\")\n",
    "\n",
    "chart.animate(data)\n",
    "\n",
    "chart.animate(\n",
    "   Config.bar(\n",
    "        {\n",
    "            \"x\": \"Revenue [m$]\",\n",
    "            \"y\": \"Format\",\n",
    "            \"title\": \"Revenue by Music Format 1973-2020\",\n",
    "        }\n",
    "    )\n",
    ")"
   ]
  },
  {
   "cell_type": "code",
   "execution_count": 10,
   "metadata": {},
   "outputs": [
    {
     "data": {
      "application/javascript": [
       "if (window.IpyVizzu) { window.IpyVizzu.clearInhibitScroll(element); }"
      ]
     },
     "metadata": {},
     "output_type": "display_data"
    },
    {
     "data": {
      "application/javascript": [
       "if (window.IpyVizzu) { window.IpyVizzu.clearInhibitScroll(element); }"
      ]
     },
     "metadata": {},
     "output_type": "display_data"
    },
    {
     "data": {
      "application/javascript": [
       "window.ipyvizzu.animate(element, '77dcc17', 'actual', false, lib => { return {\"config\": lib.presets.groupedBar({'x': 'Revenue [m$]', 'y': 'Format', 'groupedBy': 'Format'}), \"style\": {\"plot\": {\"marker\": {\"colorPalette\": \"#b74c20FF #c47f58FF #1c9761FF #ea4549FF #875792FF #3562b6FF #ee7c34FF #efae3aFF\"}}}} }, undefined);"
      ]
     },
     "metadata": {},
     "output_type": "display_data"
    }
   ],
   "source": [
    "chart.animate(\n",
    "   Config.groupedBar(\n",
    "        {\n",
    "            \"x\": \"Revenue [m$]\",\n",
    "            \"y\": \"Format\",\n",
    "            \"groupedBy\": \"Format\",\n",
    "        }\n",
    "    ),\n",
    "    Style({\n",
    "        \"plot\": { \"marker\": { \"colorPalette\": \"#b74c20FF #c47f58FF #1c9761FF #ea4549FF #875792FF #3562b6FF #ee7c34FF #efae3aFF\"}},\n",
    "    })\n",
    ")"
   ]
  },
  {
   "cell_type": "code",
   "execution_count": 11,
   "metadata": {},
   "outputs": [
    {
     "data": {
      "application/javascript": [
       "if (window.IpyVizzu) { window.IpyVizzu.clearInhibitScroll(element); }"
      ]
     },
     "metadata": {},
     "output_type": "display_data"
    },
    {
     "data": {
      "application/javascript": [
       "if (window.IpyVizzu) { window.IpyVizzu.clearInhibitScroll(element); }"
      ]
     },
     "metadata": {},
     "output_type": "display_data"
    },
    {
     "data": {
      "application/javascript": [
       "window.ipyvizzu.animate(element, '77dcc17', 'actual', false, lib => { return {\"config\": lib.presets.splittedColumn({'x': 'Year', 'y': 'Revenue [m$]', 'splittedBy': 'Format', 'title': 'Splitted Column Chart'}), \"style\": {\"plot\": {\"xAxis\": {\"label\": {\"fontSize\": 9, \"angle\": 2.0}}, \"marker\": {\"label\": {\"filter\": \"color(#00000000)\"}}}}} }, undefined);"
      ]
     },
     "metadata": {},
     "output_type": "display_data"
    }
   ],
   "source": [
    "chart.animate(\n",
    "    Config.splittedColumn(\n",
    "        {\n",
    "            \"x\": \"Year\",\n",
    "            \"y\": \"Revenue [m$]\",\n",
    "            \"splittedBy\": \"Format\",\n",
    "            \"title\": \"Splitted Column Chart\",\n",
    "        }),\n",
    "        Style({ \"plot\": { \n",
    "            \"xAxis\": { \"label\": { \"fontSize\": 9, \"angle\": 2.0 }},\n",
    "            'marker' :{ 'label' :{ 'filter' : 'color(#00000000)'}}\n",
    "        }})\n",
    "\n",
    ")"
   ]
  },
  {
   "cell_type": "code",
   "execution_count": 12,
   "metadata": {},
   "outputs": [
    {
     "data": {
      "application/javascript": [
       "if (window.IpyVizzu) { window.IpyVizzu.clearInhibitScroll(element); }"
      ]
     },
     "metadata": {},
     "output_type": "display_data"
    },
    {
     "data": {
      "application/javascript": [
       "if (window.IpyVizzu) { window.IpyVizzu.clearInhibitScroll(element); }"
      ]
     },
     "metadata": {},
     "output_type": "display_data"
    },
    {
     "data": {
      "application/javascript": [
       "window.ipyvizzu.setEvent(element, '77dcc17', 'aca2f72', 'plot-axis-label-draw', event => { let Year = parseFloat(event.data.text); if (!isNaN(Year) && Year > 1950 && Year < 2020 && Year % 5 !== 0) { event.preventDefault(); } });"
      ]
     },
     "metadata": {},
     "output_type": "display_data"
    },
    {
     "data": {
      "text/plain": [
       "<ipyvizzu.event.EventHandler at 0x1800f735c10>"
      ]
     },
     "execution_count": 12,
     "metadata": {},
     "output_type": "execute_result"
    }
   ],
   "source": [
    "#Set a handler that prevents showing the year values that are not divisible by 5\n",
    "handler = \"\"\"\n",
    "let Year = parseFloat(event.data.text);\n",
    "if (!isNaN(Year) && Year > 1950 && Year < 2020 && Year % 5 !== 0) {\n",
    "    event.preventDefault();\n",
    "}\n",
    "\"\"\"\n",
    "#Add handler to the plot-axis-label-draw event so that it takes effect.\n",
    "chart.on(\"plot-axis-label-draw\", handler)"
   ]
  },
  {
   "cell_type": "code",
   "execution_count": 13,
   "metadata": {},
   "outputs": [
    {
     "data": {
      "application/javascript": [
       "if (window.IpyVizzu) { window.IpyVizzu.clearInhibitScroll(element); }"
      ]
     },
     "metadata": {},
     "output_type": "display_data"
    },
    {
     "data": {
      "application/javascript": [
       "if (window.IpyVizzu) { window.IpyVizzu.clearInhibitScroll(element); }"
      ]
     },
     "metadata": {},
     "output_type": "display_data"
    },
    {
     "data": {
      "application/javascript": [
       "window.ipyvizzu.animate(element, '77dcc17', 'actual', false, lib => { return {\"config\": lib.presets.stream({'x': 'Year', 'y': 'Revenue [m$]', 'stackedBy': 'Format', 'title': 'Revenue by Music Format 1973-2020'})} }, undefined);"
      ]
     },
     "metadata": {},
     "output_type": "display_data"
    }
   ],
   "source": [
    "chart.animate(\n",
    "    Config.stream(\n",
    "            {\n",
    "                \"x\": \"Year\",\n",
    "                \"y\": \"Revenue [m$]\",\n",
    "                \"stackedBy\": \"Format\",\n",
    "                \"title\": \"Revenue by Music Format 1973-2020\",\n",
    "            }\n",
    "        )\n",
    ")"
   ]
  },
  {
   "cell_type": "code",
   "execution_count": 14,
   "metadata": {},
   "outputs": [
    {
     "data": {
      "application/javascript": [
       "if (window.IpyVizzu) { window.IpyVizzu.clearInhibitScroll(element); }"
      ]
     },
     "metadata": {},
     "output_type": "display_data"
    },
    {
     "data": {
      "application/javascript": [
       "if (window.IpyVizzu) { window.IpyVizzu.clearInhibitScroll(element); }"
      ]
     },
     "metadata": {},
     "output_type": "display_data"
    },
    {
     "data": {
      "application/javascript": [
       "window.ipyvizzu.animate(element, '77dcc17', 'actual', false, lib => { return {\"config\": {\"split\": true}} }, undefined);"
      ]
     },
     "metadata": {},
     "output_type": "display_data"
    }
   ],
   "source": [
    "chart.animate(\n",
    "    Config(\n",
    "        {\n",
    "            \"split\": True\n",
    "        }\n",
    "    )\n",
    ")"
   ]
  },
  {
   "cell_type": "code",
   "execution_count": 15,
   "metadata": {},
   "outputs": [
    {
     "data": {
      "application/javascript": [
       "if (window.IpyVizzu) { window.IpyVizzu.clearInhibitScroll(element); }"
      ]
     },
     "metadata": {},
     "output_type": "display_data"
    },
    {
     "data": {
      "application/javascript": [
       "if (window.IpyVizzu) { window.IpyVizzu.clearInhibitScroll(element); }"
      ]
     },
     "metadata": {},
     "output_type": "display_data"
    },
    {
     "data": {
      "application/javascript": [
       "window.ipyvizzu.animate(element, '77dcc17', 'actual', false, lib => { return {\"data\": {\"filter\": record => { return (record.Format == 'Vinyl' || record.Format == 'Streaming') }}, \"config\": {\"title\": \"Revenue of Vinyl & Streaming 1973-2020\"}} }, undefined);"
      ]
     },
     "metadata": {},
     "output_type": "display_data"
    }
   ],
   "source": [
    "chart.animate(\n",
    "    Data.filter(\n",
    "        \"record.Format == 'Vinyl' || record.Format == 'Streaming'\"\n",
    "    ),\n",
    "    Config(\n",
    "        {\n",
    "            \"title\": \"Revenue of Vinyl & Streaming 1973-2020\"\n",
    "        }\n",
    "    )\n",
    ")"
   ]
  },
  {
   "cell_type": "code",
   "execution_count": 16,
   "metadata": {},
   "outputs": [
    {
     "data": {
      "application/javascript": [
       "if (window.IpyVizzu) { window.IpyVizzu.clearInhibitScroll(element); }"
      ]
     },
     "metadata": {},
     "output_type": "display_data"
    },
    {
     "data": {
      "application/javascript": [
       "if (window.IpyVizzu) { window.IpyVizzu.clearInhibitScroll(element); }"
      ]
     },
     "metadata": {},
     "output_type": "display_data"
    },
    {
     "data": {
      "application/javascript": [
       "window.ipyvizzu.animate(element, '77dcc17', 'actual', false, lib => { return {\"data\": {\"filter\": null}, \"config\": {\"title\": \"Revenue by Music Format 1973-2020\", \"split\": false}} }, undefined);"
      ]
     },
     "metadata": {},
     "output_type": "display_data"
    }
   ],
   "source": [
    "chart.animate(\n",
    "    Data.filter(None),\n",
    "    Config(\n",
    "        {\n",
    "            \"title\": \"Revenue by Music Format 1973-2020\", \n",
    "            \"split\": False\n",
    "        }\n",
    "    )\n",
    ")"
   ]
  },
  {
   "cell_type": "code",
   "execution_count": 17,
   "metadata": {},
   "outputs": [
    {
     "data": {
      "application/javascript": [
       "if (window.IpyVizzu) { window.IpyVizzu.clearInhibitScroll(element); }"
      ]
     },
     "metadata": {},
     "output_type": "display_data"
    },
    {
     "data": {
      "application/javascript": [
       "if (window.IpyVizzu) { window.IpyVizzu.clearInhibitScroll(element); }"
      ]
     },
     "metadata": {},
     "output_type": "display_data"
    },
    {
     "data": {
      "application/javascript": [
       "window.ipyvizzu.animate(element, '77dcc17', 'actual', false, lib => { return {\"config\": lib.presets.line({'x': 'Year', 'y': 'Revenue [m$]', 'dividedBy': 'Format'})} }, undefined);"
      ]
     },
     "metadata": {},
     "output_type": "display_data"
    }
   ],
   "source": [
    "chart.animate(\n",
    "    Config.line(\n",
    "        {\n",
    "            \"x\": \"Year\",\n",
    "            \"y\": \"Revenue [m$]\",\n",
    "            \"dividedBy\": \"Format\"\n",
    "        }\n",
    "    )\n",
    ")"
   ]
  },
  {
   "cell_type": "markdown",
   "metadata": {},
   "source": [
    "### Issues\n",
    "~~- Generic logic can be hard to comprehend~~\n",
    "- One directional use"
   ]
  }
 ],
 "metadata": {
  "kernelspec": {
   "display_name": "Python 3 (ipykernel)",
   "language": "python",
   "name": "python3"
  },
  "language_info": {
   "codemirror_mode": {
    "name": "ipython",
    "version": 3
   },
   "file_extension": ".py",
   "mimetype": "text/x-python",
   "name": "python",
   "nbconvert_exporter": "python",
   "pygments_lexer": "ipython3",
   "version": "3.9.12"
  },
  "title": "ipyvizzu - Story"
 },
 "nbformat": 4,
 "nbformat_minor": 2
}
