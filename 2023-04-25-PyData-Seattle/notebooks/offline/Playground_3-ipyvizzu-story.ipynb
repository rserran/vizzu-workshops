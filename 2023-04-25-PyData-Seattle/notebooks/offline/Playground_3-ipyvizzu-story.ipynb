{
 "cells": [
  {
   "cell_type": "markdown",
   "id": "54823069",
   "metadata": {},
   "source": [
    "# ipyvizzu Playground 3 - ipyvizzu-story\n",
    "\n",
    "#### If you download this notebook, make sure to check out how to use it in your environment: https://ipyvizzu.vizzuhq.com/mkdocs/docs/environments/index.html"
   ]
  },
  {
   "cell_type": "code",
   "execution_count": null,
   "id": "8d6492c8",
   "metadata": {},
   "outputs": [],
   "source": [
    "#!pip install ipyvizzu\n",
    "#!pip install ipyvizzu-story"
   ]
  },
  {
   "cell_type": "code",
   "execution_count": null,
   "id": "dd5c88be",
   "metadata": {},
   "outputs": [],
   "source": [
    "# Import components, add data to pandas data frame\n",
    "\n",
    "import pandas as pd\n",
    "from ipyvizzu import Chart, Data, Config, Style\n",
    "from ipyvizzustory import Story, Slide, Step\n",
    "\n",
    "data_frame = pd.read_csv(#'https://raw.githubusercontent.com/vizzuhq/vizzu-workshops/main/2023-04-25-PyData-Seattle/data/worldpopulation.csv',\n",
    "            '../data/worldpopulation.csv',\n",
    "                   dtype={'Year': str})\n",
    "data = Data()\n",
    "data.add_data_frame(data_frame)\n",
    "\n",
    "display(data_frame)"
   ]
  },
  {
   "cell_type": "code",
   "execution_count": null,
   "id": "db49fdeb",
   "metadata": {},
   "outputs": [],
   "source": [
    "# Set the style of the charts in the story\n",
    "\n",
    "style = Style({ \n",
    "            'plot': { \n",
    "                'marker': { 'label' :{ \n",
    "                    'position':'top',\n",
    "                    'numberFormat' : 'prefixed',\n",
    "                    'maxFractionDigits' : '1',\n",
    "                    'numberScale':'shortScaleSymbolUS'\n",
    "                }},\n",
    "                     'xAxis': { 'label': { 'angle': '-45deg',  'numberScale':'shortScaleSymbolUS'}},\n",
    "                     'yAxis': { 'label': { 'numberScale':'shortScaleSymbolUS'}} \n",
    "                },\n",
    "                'legend' : {'width' : '15%'},\n",
    "        })"
   ]
  },
  {
   "cell_type": "code",
   "execution_count": null,
   "id": "2f31af16",
   "metadata": {},
   "outputs": [],
   "source": [
    "# Create Story object, set size\n",
    "\n",
    "story = Story(data=data,style=style)\n",
    "story.set_feature('tooltip', True)\n",
    "story.set_size('100%', '400px')"
   ]
  },
  {
   "cell_type": "code",
   "execution_count": null,
   "id": "34463941",
   "metadata": {
    "scrolled": false
   },
   "outputs": [],
   "source": [
    "slide1 = Slide(\n",
    "    Step(\n",
    "        Config.area({ \n",
    "                'x': 'Year',\n",
    "                'y': 'Pop_Medium',\n",
    "                'title': 'Population of the World 1953-2098',\n",
    "            })\n",
    "))\n",
    "\n",
    "story.add_slide(slide1)\n",
    "\n",
    "slide2 = Slide(\n",
    "    Step(\n",
    "        Config.stackedArea({ #stackedColumn (stackedBy), groupedColumn (groupedBy), percentageArea (stackedBy), stream (stackedBy), violin (splittedBy)\n",
    "                'x': 'Year',\n",
    "                'y': 'Pop_Medium',\n",
    "                'stackedBy': 'Region',\n",
    "                'title': 'Population of Regions 1953-2098',\n",
    "        }),\n",
    "))\n",
    "\n",
    "story.add_slide(slide2)\n",
    "\n",
    "story.play()"
   ]
  },
  {
   "cell_type": "code",
   "execution_count": null,
   "id": "191578db",
   "metadata": {},
   "outputs": [],
   "source": [
    "slide3 = Slide()\n",
    "\n",
    "slide3.add_step(\n",
    "    Step(\n",
    "        Data.filter(\n",
    "        \"record.Region == 'Europe'\" # \"(record.Region == 'Africa' || record.Region == 'Asia') && record.Period == 'past'\"\n",
    "        ),\n",
    "))\n",
    "\n",
    "slide3.add_step(\n",
    "    Step(\n",
    "        Config({\n",
    "                'y':['Subregion','Pop_Medium'],\n",
    "                'lightness': 'Subregion',\n",
    "                'legend':'lightness',\n",
    "                'title': 'Population of Europe 1953-2098'\n",
    "            }),\n",
    "))\n",
    "\n",
    "\n",
    "story.add_slide(slide3)\n",
    "story.play()"
   ]
  },
  {
   "cell_type": "code",
   "execution_count": null,
   "id": "632e8ea3",
   "metadata": {},
   "outputs": [],
   "source": [
    "data_frame.Subregion.unique()"
   ]
  },
  {
   "cell_type": "code",
   "execution_count": null,
   "id": "d256ebff",
   "metadata": {},
   "outputs": [],
   "source": [
    "slide4 = Slide()\n",
    "\n",
    "slide4.add_step(\n",
    "    Step(\n",
    "        Data.filter(\n",
    "        \"record.Subregion == 'Eastern Europe'\" # \"(record.Region == 'Africa' || record.Region == 'Asia') && record.Period == 'past'\"\n",
    "        ),\n",
    "        Config({\n",
    "            'lightness':None,\n",
    "        })\n",
    "))\n",
    "\n",
    "slide4.add_step(\n",
    "    Step(\n",
    "        Config.stackedArea({ #stackedColumn (stackedBy), groupedColumn (groupedBy), percentageArea (stackedBy), stream (stackedBy), violin (splittedBy)\n",
    "                'x': 'Year',\n",
    "                'y': 'Pop_Medium',\n",
    "                'stackedBy': 'Country',\n",
    "                'title': 'Population of Eastern Europe 1953-2098',\n",
    "        }),\n",
    "))\n",
    "\n",
    "\n",
    "slide4.add_step(\n",
    "    Step(\n",
    "        Config({'legend':'color'}),\n",
    "        Style({'legend' : {'width' : '15%'}})\n",
    "    )\n",
    ")\n",
    "\n",
    "\n",
    "story.add_slide(slide4)\n",
    "story.play()"
   ]
  },
  {
   "cell_type": "code",
   "execution_count": null,
   "id": "6c025443",
   "metadata": {},
   "outputs": [],
   "source": [
    "slide5 = Slide()\n",
    "\n",
    "slide5.add_step(\n",
    "    Step(\n",
    "        Config.stackedArea({ #stackedColumn (stackedBy), groupedColumn (groupedBy), percentageArea (stackedBy), stream (stackedBy), violin (splittedBy)\n",
    "                'x': 'Year',\n",
    "                'y': 'Pop_High',\n",
    "                'stackedBy': 'Country',\n",
    "                'title': 'Population of Eastern Europe 1953-2098',\n",
    "        }),\n",
    "))\n",
    "\n",
    "\n",
    "story.add_slide(slide5)\n",
    "story.play()"
   ]
  },
  {
   "cell_type": "code",
   "execution_count": null,
   "id": "3ae21ee3",
   "metadata": {},
   "outputs": [],
   "source": [
    "# Export the story as an HTML file\n",
    "\n",
    "# story.export_to_html(filename='ipyvizzu_world_population_story.html')"
   ]
  }
 ],
 "metadata": {
  "kernelspec": {
   "display_name": "Python 3 (ipykernel)",
   "language": "python",
   "name": "python3"
  },
  "language_info": {
   "codemirror_mode": {
    "name": "ipython",
    "version": 3
   },
   "file_extension": ".py",
   "mimetype": "text/x-python",
   "name": "python",
   "nbconvert_exporter": "python",
   "pygments_lexer": "ipython3",
   "version": "3.9.12"
  }
 },
 "nbformat": 4,
 "nbformat_minor": 5
}
