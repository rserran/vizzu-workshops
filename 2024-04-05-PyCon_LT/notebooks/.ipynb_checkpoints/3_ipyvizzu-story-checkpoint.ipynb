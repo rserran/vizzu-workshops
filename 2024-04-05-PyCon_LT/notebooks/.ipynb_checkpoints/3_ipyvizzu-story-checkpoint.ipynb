{
 "cells": [
  {
   "cell_type": "markdown",
   "id": "a892fbda",
   "metadata": {},
   "source": [
    "# ipyvizzu 3rd Example - ipyvizzu-story\n",
    "\n",
    "## [Documentation](https://ipyvizzu-story.vizzuhq.com/)\n",
    "\n",
    "## Data: The history of the US Federal R&D budget between 1955-2020."
   ]
  },
  {
   "cell_type": "code",
   "execution_count": null,
   "id": "4857f416",
   "metadata": {},
   "outputs": [],
   "source": [
    "#!pip install ipyvizzu\n",
    "#!pip install ipyvizzu-story"
   ]
  },
  {
   "attachments": {},
   "cell_type": "markdown",
   "id": "8bd64e48",
   "metadata": {},
   "source": [
    "![Image](https://raw.githubusercontent.com/vizzuhq/vizzu-workshops/4db3bcbdf8e408731322d7810aabbeb55f0b9520/2023-06-30-PyCon_PL/assets/ipyvizzu-story-API-structre.svg)"
   ]
  },
  {
   "cell_type": "code",
   "execution_count": null,
   "id": "bff7301a",
   "metadata": {},
   "outputs": [],
   "source": [
    "# Import components, add data to pandas data frame\n",
    "\n",
    "import pandas as pd\n",
    "\n",
    "from ipyvizzu import Data, Config, Style\n",
    "from ipyvizzustory import Story, Slide, Step\n",
    "\n",
    "#Create data object, read csv to data frame and add data frame to data object.\n",
    "data = Data()\n",
    "df = pd.read_csv('https://raw.githubusercontent.com/vizzuhq/vizzu-workshops/main/2023-04-25-PyData-Seattle/data/US_RD.csv',\n",
    "    dtype={'Year': str})\n",
    "data.add_df(df)\n",
    "\n",
    "display(df)"
   ]
  },
  {
   "cell_type": "code",
   "execution_count": null,
   "id": "ed9de2e7",
   "metadata": {},
   "outputs": [],
   "source": [
    "df.dtypes"
   ]
  },
  {
   "cell_type": "code",
   "execution_count": null,
   "id": "d61b7146",
   "metadata": {},
   "outputs": [],
   "source": [
    "# Set the style of the charts in the story\n",
    "\n",
    "style = Style(\n",
    "    {\n",
    "        'plot': {\n",
    "            'yAxis': {\n",
    "                'label': {\n",
    "                    'fontSize': '1em',\n",
    "                    'paddingRight': '1.2em',\n",
    "                },\n",
    "                'title': {'color': '#ffffff00'},\n",
    "            },\n",
    "            'xAxis': {\n",
    "                'label': {\n",
    "                    'angle': '2.5',\n",
    "                    'fontSize': '1.1em',\n",
    "                },\n",
    "                'title': {'fontSize': '1em', 'paddingTop': '2.5em'},\n",
    "            },\n",
    "        },\n",
    "    }\n",
    ")\n",
    "\n"
   ]
  },
  {
   "cell_type": "code",
   "execution_count": null,
   "id": "ffa554ed",
   "metadata": {},
   "outputs": [],
   "source": [
    "# Create Story object, set size\n",
    "\n",
    "story = Story(data=data, style=style)\n",
    "story.set_size('100%', '400px')"
   ]
  },
  {
   "cell_type": "code",
   "execution_count": null,
   "id": "87aa1b73",
   "metadata": {},
   "outputs": [],
   "source": [
    "# Add the first slide, containing a single animation \n",
    "# step that sets the initial chart.\n",
    "# Using filter and a preset\n",
    "\n",
    "slide1 = Slide(\n",
    "    Step(\n",
    "        Data.filter(\"record.Function !== 'Defense'\"),\n",
    "        Config.stackedArea(\n",
    "            {\n",
    "                'x': 'Year',\n",
    "                'y': 'Amount[B$]',                  \n",
    "                'stackedBy': 'Function',\n",
    "                'title': 'U.S. R&D Budget 1955-2020',\n",
    "            }\n",
    "        )\n",
    "    )\n",
    ")\n",
    "# Add the slide to the story\n",
    "story.add_slide(slide1)\n",
    "\n",
    "# Create and add next slide \n",
    "# that shows components side-by-side\n",
    "\n",
    "slide2 = Slide(\n",
    "    Step(\n",
    "        Config(\n",
    "            {\n",
    "                'split': True,\n",
    "                'title': 'Show Components Side by Side',\n",
    "            }\n",
    "        )\n",
    "    )\n",
    ")\n",
    "story.add_slide(slide2)\n",
    "\n",
    "# Switch on the tooltip that appears \n",
    "# when the user hovers the mouse over a chart element.\n",
    "story.set_feature('tooltip', True)\n",
    "\n",
    "# Play the created story\n",
    "story.play()\n"
   ]
  },
  {
   "cell_type": "code",
   "execution_count": null,
   "id": "e279afd2",
   "metadata": {},
   "outputs": [],
   "source": [
    "# Set a handler to show only years divisible by 5\n",
    "\n",
    "handler = '''\n",
    "let Year = parseFloat(event.data.text);\n",
    "if (!isNaN(Year) && Year > 1950 && Year < 2020 && Year % 5 !== 0) {\n",
    "    event.preventDefault();\n",
    "}\n",
    "'''\n",
    "\n",
    "# Add handler to the plot-axis-label-draw event so that it takes effect.\n",
    "story.add_event('plot-axis-label-draw', handler)"
   ]
  },
  {
   "cell_type": "code",
   "execution_count": null,
   "id": "5a6b578d",
   "metadata": {},
   "outputs": [],
   "source": [
    "# Create a slide that contains multiple steps.\n",
    "# Note that the slide is created as an empty object, \n",
    "# then steps are added to it one-by-one.\n",
    "\n",
    "slide3 = Slide()\n",
    "\n",
    "# Step 1 - Turn split off\n",
    "slide3.add_step(Step(\n",
    "        Config(\n",
    "            {\n",
    "                'split': False\n",
    "            }\n",
    "        )\n",
    "    )\n",
    ")\n",
    "# Step 2 - Add the defense function to the chart\n",
    "# by emptying the filter\n",
    "slide3.add_step(Step(\n",
    "        Data.filter(None),\n",
    "        Config({\n",
    "            'title': 'Add Defense Budget'\n",
    "        })\n",
    "    )\n",
    ")\n",
    "# Add the multi-step slide to the story, \n",
    "# just like any other slide.\n",
    "story.add_slide(slide3)\n",
    "\n",
    "# Play the created story\n",
    "story.play()"
   ]
  },
  {
   "cell_type": "code",
   "execution_count": null,
   "id": "2d990e0d",
   "metadata": {},
   "outputs": [],
   "source": [
    "# Show share of components with the align : stretch feature\n",
    "slide4 = Slide(\n",
    "    Step(\n",
    "        Config(\n",
    "            {\n",
    "                'align': 'stretch',\n",
    "                'title': 'Show Share of Components (%)'\n",
    "            }\n",
    "        )\n",
    "    )\n",
    ")\n",
    "\n",
    "story.add_slide(slide4)"
   ]
  },
  {
   "cell_type": "code",
   "execution_count": null,
   "id": "cff8f136",
   "metadata": {
    "scrolled": true
   },
   "outputs": [],
   "source": [
    "# Zoom in to compare data from 1955 and 2020\n",
    "slide5 = Slide()\n",
    "\n",
    "\n",
    "# Step 1 - switch back to value instead of percentage\n",
    "slide5.add_step(Step(\n",
    "        Config({\n",
    "            'align':'none'\n",
    "        })\n",
    "    ))\n",
    "\n",
    "# Step 2 - switch to a stacked column chart \n",
    "# by changing the geometry\n",
    "slide5.add_step(Step(\n",
    "        Config({\n",
    "            'geometry':'rectangle',\n",
    "        })\n",
    "    ))\n",
    "\n",
    "# Step 2 - zoom to data from the first and last years\n",
    "slide5.add_step(Step(\n",
    "        Data.filter(\n",
    "            \"record.Year === '1955' || record.Year === '2020'\"\n",
    "        ),\n",
    "       Config({\n",
    "           'title':'Zoom to Specific Elements',\n",
    "       })\n",
    "    \n",
    "   ),\n",
    ")\n",
    "story.add_slide(slide5)\n",
    "story.play()"
   ]
  },
  {
   "cell_type": "code",
   "execution_count": null,
   "id": "b68cd8ff",
   "metadata": {},
   "outputs": [],
   "source": [
    "# Group & rearrange elements for comparison\n",
    "slide6 = Slide()\n",
    "slide6.add_step(Step(\n",
    "    Config.groupedColumn(\n",
    "            {\n",
    "                'x': 'Function',\n",
    "                'y': 'Amount[B$]',\n",
    "                'groupedBy': 'Year',\n",
    "                'title': 'Group & Rearrange for Better Comparison',\n",
    "            }\n",
    "        )\n",
    "    )\n",
    ")\n",
    "\n",
    "slide6.add_step(Step(\n",
    "        Config(\n",
    "            {\n",
    "                'x': ['Function','Year']\n",
    "            }\n",
    "        )\n",
    "    )\n",
    ")\n",
    "story.add_slide(slide6)\n",
    "\n",
    "story.play()"
   ]
  },
  {
   "cell_type": "code",
   "execution_count": null,
   "id": "d44e2014",
   "metadata": {},
   "outputs": [],
   "source": [
    "# Make exported story full-screen by setting vertical size to 100%\n",
    "# Export the story as an HTML file\n",
    "\n",
    "story.set_size('100%', '100%')\n",
    "story.export_to_html(filename='mystory.html')"
   ]
  },
  {
   "cell_type": "markdown",
   "id": "1c9a21a8",
   "metadata": {},
   "source": [
    "### Learn more about [ipyvizzu-story](https://ipyvizzu-story.vizzuhq.com/)"
   ]
  }
 ],
 "metadata": {
  "kernelspec": {
   "display_name": "Python 3 (ipykernel)",
   "language": "python",
   "name": "python3"
  },
  "language_info": {
   "codemirror_mode": {
    "name": "ipython",
    "version": 3
   },
   "file_extension": ".py",
   "mimetype": "text/x-python",
   "name": "python",
   "nbconvert_exporter": "python",
   "pygments_lexer": "ipython3",
   "version": "3.11.5"
  },
  "title": "ipyvizzu - story - Example"
 },
 "nbformat": 4,
 "nbformat_minor": 5
}
