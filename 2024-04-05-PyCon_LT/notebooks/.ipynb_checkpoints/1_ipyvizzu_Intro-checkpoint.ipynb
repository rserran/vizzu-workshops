{
 "cells": [
  {
   "cell_type": "markdown",
   "id": "e0dabc3b",
   "metadata": {},
   "source": [
    "# ipyvizzu Intro"
   ]
  },
  {
   "cell_type": "markdown",
   "id": "fe3916e5",
   "metadata": {},
   "source": [
    "## Basic logic"
   ]
  },
  {
   "cell_type": "markdown",
   "id": "53dfef42-44d5-4972-8fbe-6ad06cebe894",
   "metadata": {},
   "source": [
    "![Image](https://raw.githubusercontent.com/vizzuhq/vizzu-workshops/4db3bcbdf8e408731322d7810aabbeb55f0b9520/2024-04-05-PyCon_LT/assets/ipyvizzu-API-structure.svg)"
   ]
  },
  {
   "cell_type": "markdown",
   "id": "de5545bf",
   "metadata": {},
   "source": [
    "## First example - Titanic data set"
   ]
  },
  {
   "cell_type": "code",
   "execution_count": null,
   "id": "48947d42",
   "metadata": {},
   "outputs": [],
   "source": [
    "# pip install ipyvizzu"
   ]
  },
  {
   "cell_type": "code",
   "execution_count": 2,
   "id": "c912d1f3",
   "metadata": {},
   "outputs": [
    {
     "data": {
      "text/html": [
       "<div>\n",
       "<style scoped>\n",
       "    .dataframe tbody tr th:only-of-type {\n",
       "        vertical-align: middle;\n",
       "    }\n",
       "\n",
       "    .dataframe tbody tr th {\n",
       "        vertical-align: top;\n",
       "    }\n",
       "\n",
       "    .dataframe thead th {\n",
       "        text-align: right;\n",
       "    }\n",
       "</style>\n",
       "<table border=\"1\" class=\"dataframe\">\n",
       "  <thead>\n",
       "    <tr style=\"text-align: right;\">\n",
       "      <th></th>\n",
       "      <th>Count</th>\n",
       "      <th>PassengerId</th>\n",
       "      <th>Survived</th>\n",
       "      <th>Pclass</th>\n",
       "      <th>Name</th>\n",
       "      <th>Sex</th>\n",
       "      <th>Age</th>\n",
       "      <th>SibSp</th>\n",
       "      <th>Parch</th>\n",
       "      <th>Ticket</th>\n",
       "      <th>Fare</th>\n",
       "      <th>Cabin</th>\n",
       "      <th>Embarked</th>\n",
       "    </tr>\n",
       "  </thead>\n",
       "  <tbody>\n",
       "    <tr>\n",
       "      <th>0</th>\n",
       "      <td>1</td>\n",
       "      <td>1</td>\n",
       "      <td>Died</td>\n",
       "      <td>3</td>\n",
       "      <td>Braund, Mr. Owen Harris</td>\n",
       "      <td>male</td>\n",
       "      <td>22.0</td>\n",
       "      <td>1</td>\n",
       "      <td>0</td>\n",
       "      <td>A/5 21171</td>\n",
       "      <td>7.2500</td>\n",
       "      <td>NaN</td>\n",
       "      <td>S</td>\n",
       "    </tr>\n",
       "    <tr>\n",
       "      <th>1</th>\n",
       "      <td>1</td>\n",
       "      <td>10</td>\n",
       "      <td>Survived</td>\n",
       "      <td>2</td>\n",
       "      <td>Nasser, Mrs. Nicholas (Adele Achem)</td>\n",
       "      <td>female</td>\n",
       "      <td>14.0</td>\n",
       "      <td>1</td>\n",
       "      <td>0</td>\n",
       "      <td>237736</td>\n",
       "      <td>30.0708</td>\n",
       "      <td>NaN</td>\n",
       "      <td>C</td>\n",
       "    </tr>\n",
       "    <tr>\n",
       "      <th>2</th>\n",
       "      <td>1</td>\n",
       "      <td>2</td>\n",
       "      <td>Survived</td>\n",
       "      <td>1</td>\n",
       "      <td>Cumings, Mrs. John Bradley (Florence Briggs Th...</td>\n",
       "      <td>female</td>\n",
       "      <td>38.0</td>\n",
       "      <td>1</td>\n",
       "      <td>0</td>\n",
       "      <td>PC 17599</td>\n",
       "      <td>71.2833</td>\n",
       "      <td>C85</td>\n",
       "      <td>C</td>\n",
       "    </tr>\n",
       "    <tr>\n",
       "      <th>3</th>\n",
       "      <td>1</td>\n",
       "      <td>3</td>\n",
       "      <td>Survived</td>\n",
       "      <td>3</td>\n",
       "      <td>Heikkinen, Miss. Laina</td>\n",
       "      <td>female</td>\n",
       "      <td>26.0</td>\n",
       "      <td>0</td>\n",
       "      <td>0</td>\n",
       "      <td>STON/O2. 3101282</td>\n",
       "      <td>7.9250</td>\n",
       "      <td>NaN</td>\n",
       "      <td>S</td>\n",
       "    </tr>\n",
       "  </tbody>\n",
       "</table>\n",
       "</div>"
      ],
      "text/plain": [
       "   Count  PassengerId  Survived Pclass  \\\n",
       "0      1            1      Died      3   \n",
       "1      1           10  Survived      2   \n",
       "2      1            2  Survived      1   \n",
       "3      1            3  Survived      3   \n",
       "\n",
       "                                                Name     Sex   Age  SibSp  \\\n",
       "0                            Braund, Mr. Owen Harris    male  22.0      1   \n",
       "1                Nasser, Mrs. Nicholas (Adele Achem)  female  14.0      1   \n",
       "2  Cumings, Mrs. John Bradley (Florence Briggs Th...  female  38.0      1   \n",
       "3                             Heikkinen, Miss. Laina  female  26.0      0   \n",
       "\n",
       "   Parch            Ticket     Fare Cabin Embarked  \n",
       "0      0         A/5 21171   7.2500   NaN        S  \n",
       "1      0            237736  30.0708   NaN        C  \n",
       "2      0          PC 17599  71.2833   C85        C  \n",
       "3      0  STON/O2. 3101282   7.9250   NaN        S  "
      ]
     },
     "execution_count": 2,
     "metadata": {},
     "output_type": "execute_result"
    }
   ],
   "source": [
    "# Import components, add data to pandas data frame\n",
    "\n",
    "import pandas as pd\n",
    "from ipyvizzu import Chart, Data, Config, Style\n",
    "\n",
    "#Add Titanic data set to a data frame with a Count value added to it - Pclass type is set to string\n",
    "data_frame = pd.read_csv(\n",
    "    \"https://raw.githubusercontent.com/vizzuhq/vizzu-workshops/main/2023-04-25-PyData-Seattle/data/titanic.csv\",\n",
    "    dtype={\"Pclass\": str}\n",
    ")\n",
    "data = Data()\n",
    "data.add_df(data_frame)\n",
    "\n",
    "data_frame.head(4)"
   ]
  },
  {
   "cell_type": "code",
   "execution_count": null,
   "id": "7e492b54",
   "metadata": {},
   "outputs": [],
   "source": [
    "# Create empty chart\n",
    "# Rerun this cell if you want to start over\n",
    "\n",
    "chart = Chart(width='100%', height='360px')\n",
    "chart.animate(data)"
   ]
  },
  {
   "cell_type": "code",
   "execution_count": null,
   "id": "b7c6915a",
   "metadata": {},
   "outputs": [],
   "source": [
    "# Create first chart\n",
    "\n",
    "chart.animate(\n",
    "    Config(\n",
    "        {\n",
    "            'x': 'Count',\n",
    "            'y': 'Sex',\n",
    "            'label': 'Count',\n",
    "            'title': 'Passengers of the Titanic',\n",
    "        }\n",
    "    )\n",
    ")"
   ]
  },
  {
   "cell_type": "code",
   "execution_count": null,
   "id": "5f5f57de",
   "metadata": {},
   "outputs": [],
   "source": [
    "# Create second chart by adding a new dimension\n",
    "# to the x-axis and to the color channel\n",
    "\n",
    "chart.animate(\n",
    "    Config(\n",
    "        {\n",
    "            'x': ['Count', 'Survived'],\n",
    "            'color': 'Survived'\n",
    "        }\n",
    "    )\n",
    ")"
   ]
  },
  {
   "cell_type": "code",
   "execution_count": null,
   "id": "fd8260b1",
   "metadata": {},
   "outputs": [],
   "source": [
    "# Create third chart by removing the new dimension\n",
    "# from the x-axis and add it to the y-axis\n",
    "\n",
    "chart.animate(\n",
    "    Data.filter(\"record.Pclass == '1'\"),\n",
    "    Config(\n",
    "        {\n",
    "            'y': 'Count', \n",
    "            'x': ['Sex', 'Survived'],\n",
    "           # 'geometry':'rectangle',\n",
    "           # 'size':'Count',\n",
    "           # 'coordSystem':'cartesian'\n",
    "        }\n",
    "    ),\n",
    "    #Style({'plot':{'marker':{'colorPalette': '#b74c20FF #1c9761FF #c47f58FF #ea4549FF'}}})\n",
    ")"
   ]
  },
  {
   "cell_type": "markdown",
   "id": "4ed18b50",
   "metadata": {},
   "source": [
    "## Config\n",
    "There are\n",
    "- **axes**\n",
    "   - **x**\n",
    "   - **y**\n",
    "- **channels** \n",
    "   - **color** - sets the color of the markers\n",
    "   - **label** - sets the label shown on the markers\n",
    "   - **size** - sets the size of the markers when geometry is circle or line\n",
    "   - **lightness** - sets the color intensity of the markers - rarely works well together with color channel\n",
    "\n",
    "You can add any number of categorical and one numerical series to each of them.\n",
    "\n",
    "Other parameters include:           \n",
    "- **geometry** (*rectangle*, circle, area, line) - sets the geometric elements used on the charts\n",
    "- **coordSystem** (*cartesian*, polar) - sets the coordinate system\n",
    "- **sort** (*none*, byValue) - sets sorting by value on and off\n",
    "- **align** (*none*, min, max, center, stretch) - sets the alignment of the markers on the plot - stretch: switch to %\n",
    "- **title** (string) - sets the title of the chart\n",
    "- **split** (true, *false*) - splits a stacked chart to show values side-by-side\n",
    "\n",
    "*default values*"
   ]
  }
 ],
 "metadata": {
  "kernelspec": {
   "display_name": "Python 3 (ipykernel)",
   "language": "python",
   "name": "python3"
  },
  "language_info": {
   "codemirror_mode": {
    "name": "ipython",
    "version": 3
   },
   "file_extension": ".py",
   "mimetype": "text/x-python",
   "name": "python",
   "nbconvert_exporter": "python",
   "pygments_lexer": "ipython3",
   "version": "3.11.5"
  }
 },
 "nbformat": 4,
 "nbformat_minor": 5
}
