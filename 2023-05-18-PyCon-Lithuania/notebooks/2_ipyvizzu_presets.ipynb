{
 "cells": [
  {
   "cell_type": "markdown",
   "metadata": {},
   "source": [
    "# ipyvizzu Intro - Presets, Styling & Filters\n",
    "\n",
    "### List of available [preset charts](https://ipyvizzu.vizzuhq.com/latest/examples/presets/)\n",
    "### Available [styling parameters](https://docs.google.com/spreadsheets/d/1b3e9L72EmLKib2dOZiBAOtPRLyibQJ3BkBIiVB2mKRg/edit#gid=1889754571) and some [illustrations](https://photos.app.goo.gl/Gvnr4U91SXtZXydA9) to help you get started\n",
    "\n",
    "### Data: The revenue of different music formats in the USA between 1973 - 2020"
   ]
  },
  {
   "cell_type": "code",
   "execution_count": 1,
   "metadata": {
    "scrolled": true
   },
   "outputs": [
    {
     "data": {
      "text/html": [
       "<div>\n",
       "<style scoped>\n",
       "    .dataframe tbody tr th:only-of-type {\n",
       "        vertical-align: middle;\n",
       "    }\n",
       "\n",
       "    .dataframe tbody tr th {\n",
       "        vertical-align: top;\n",
       "    }\n",
       "\n",
       "    .dataframe thead th {\n",
       "        text-align: right;\n",
       "    }\n",
       "</style>\n",
       "<table border=\"1\" class=\"dataframe\">\n",
       "  <thead>\n",
       "    <tr style=\"text-align: right;\">\n",
       "      <th></th>\n",
       "      <th>Year</th>\n",
       "      <th>Format</th>\n",
       "      <th>Revenue[$]</th>\n",
       "    </tr>\n",
       "  </thead>\n",
       "  <tbody>\n",
       "    <tr>\n",
       "      <th>0</th>\n",
       "      <td>1973</td>\n",
       "      <td>DVD</td>\n",
       "      <td>0</td>\n",
       "    </tr>\n",
       "    <tr>\n",
       "      <th>1</th>\n",
       "      <td>1973</td>\n",
       "      <td>Other</td>\n",
       "      <td>0</td>\n",
       "    </tr>\n",
       "    <tr>\n",
       "      <th>2</th>\n",
       "      <td>1973</td>\n",
       "      <td>Tape</td>\n",
       "      <td>2941000000</td>\n",
       "    </tr>\n",
       "    <tr>\n",
       "      <th>3</th>\n",
       "      <td>1973</td>\n",
       "      <td>Download</td>\n",
       "      <td>0</td>\n",
       "    </tr>\n",
       "    <tr>\n",
       "      <th>4</th>\n",
       "      <td>1973</td>\n",
       "      <td>Streaming</td>\n",
       "      <td>0</td>\n",
       "    </tr>\n",
       "    <tr>\n",
       "      <th>...</th>\n",
       "      <td>...</td>\n",
       "      <td>...</td>\n",
       "      <td>...</td>\n",
       "    </tr>\n",
       "    <tr>\n",
       "      <th>379</th>\n",
       "      <td>2020</td>\n",
       "      <td>Download</td>\n",
       "      <td>653000000</td>\n",
       "    </tr>\n",
       "    <tr>\n",
       "      <th>380</th>\n",
       "      <td>2020</td>\n",
       "      <td>Streaming</td>\n",
       "      <td>10075000000</td>\n",
       "    </tr>\n",
       "    <tr>\n",
       "      <th>381</th>\n",
       "      <td>2020</td>\n",
       "      <td>Cassette</td>\n",
       "      <td>0</td>\n",
       "    </tr>\n",
       "    <tr>\n",
       "      <th>382</th>\n",
       "      <td>2020</td>\n",
       "      <td>Vinyl</td>\n",
       "      <td>626000000</td>\n",
       "    </tr>\n",
       "    <tr>\n",
       "      <th>383</th>\n",
       "      <td>2020</td>\n",
       "      <td>CD</td>\n",
       "      <td>484000000</td>\n",
       "    </tr>\n",
       "  </tbody>\n",
       "</table>\n",
       "<p>384 rows × 3 columns</p>\n",
       "</div>"
      ],
      "text/plain": [
       "     Year     Format   Revenue[$]\n",
       "0    1973        DVD            0\n",
       "1    1973      Other            0\n",
       "2    1973       Tape   2941000000\n",
       "3    1973   Download            0\n",
       "4    1973  Streaming            0\n",
       "..    ...        ...          ...\n",
       "379  2020   Download    653000000\n",
       "380  2020  Streaming  10075000000\n",
       "381  2020   Cassette            0\n",
       "382  2020      Vinyl    626000000\n",
       "383  2020         CD    484000000\n",
       "\n",
       "[384 rows x 3 columns]"
      ]
     },
     "metadata": {},
     "output_type": "display_data"
    }
   ],
   "source": [
    "# Import components, add data to pandas data frame\n",
    "\n",
    "import pandas as pd\n",
    "from ipyvizzu import Chart, Data, Config, Style\n",
    "\n",
    "data_frame = pd.read_csv('https://raw.githubusercontent.com/vizzuhq/vizzu-workshops/main/2023-04-25-PyData-Seattle/data/music.csv', \n",
    "                         dtype={'Year': str}\n",
    "                        )\n",
    "data = Data()\n",
    "data.add_data_frame(data_frame)\n",
    "\n",
    "display(data_frame)"
   ]
  },
  {
   "cell_type": "code",
   "execution_count": 2,
   "metadata": {},
   "outputs": [
    {
     "data": {
      "application/javascript": [
       "if (!window.IpyVizzu) {\n",
       "  class IpyVizzu {\n",
       "    constructor() {\n",
       "      IpyVizzu.inhibitScroll = false;\n",
       "      IpyVizzu.nbconvert = false;\n",
       "      document.addEventListener(\n",
       "        \"wheel\",\n",
       "        (evt) => {\n",
       "          IpyVizzu.inhibitScroll = true;\n",
       "        },\n",
       "        true\n",
       "      );\n",
       "      document.addEventListener(\n",
       "        \"keydown\",\n",
       "        (evt) => {\n",
       "          IpyVizzu.inhibitScroll = true;\n",
       "        },\n",
       "        true\n",
       "      );\n",
       "      document.addEventListener(\n",
       "        \"touchstart\",\n",
       "        (evt) => {\n",
       "          IpyVizzu.inhibitScroll = true;\n",
       "        },\n",
       "        true\n",
       "      );\n",
       "\n",
       "      this.elements = {};\n",
       "      this.charts = {};\n",
       "      this.controls = {};\n",
       "\n",
       "      this.storage = {};\n",
       "      this.displays = {};\n",
       "\n",
       "      this.events = {};\n",
       "      this.loaded = {};\n",
       "      this.libs = {};\n",
       "    }\n",
       "\n",
       "    static clearInhibitScroll(element) {\n",
       "      if (IpyVizzu.nbconvert) IpyVizzu._hide(element);\n",
       "      IpyVizzu.inhibitScroll = false;\n",
       "    }\n",
       "\n",
       "    createChart(element, chartId, vizzulib, divWidth, divHeight) {\n",
       "      this.elements[chartId] = document.createElement(\"div\");\n",
       "      this.elements[\n",
       "        chartId\n",
       "      ].style.cssText = `width: ${divWidth}; height: ${divHeight};`;\n",
       "      this.loaded[chartId] = import(vizzulib);\n",
       "      this.charts[chartId] = this.loaded[chartId].then((Vizzu) => {\n",
       "        this.libs[chartId] = Vizzu.default;\n",
       "        const VizzuConstructor = Vizzu.default;\n",
       "        return new VizzuConstructor(this.elements[chartId]).initializing;\n",
       "      });\n",
       "      this._moveHere(chartId, element);\n",
       "    }\n",
       "\n",
       "    animate(\n",
       "      element,\n",
       "      chartId,\n",
       "      animId,\n",
       "      displayTarget,\n",
       "      scrollEnabled,\n",
       "      getChartTarget,\n",
       "      chartAnimOpts\n",
       "    ) {\n",
       "      if (IpyVizzu.nbconvert) IpyVizzu._hide(element);\n",
       "      if (displayTarget === \"end\") this._moveHere(chartId, element);\n",
       "      this.controls[chartId] = this.charts[chartId];\n",
       "      this.charts[chartId] = this.charts[chartId].then((chart) => {\n",
       "        if (displayTarget === \"actual\") this._moveHere(chartId, element);\n",
       "        this._scroll(chartId, scrollEnabled);\n",
       "        let chartTarget = getChartTarget(this.libs[chartId]);\n",
       "        if (typeof chartTarget === \"string\") {\n",
       "          chartTarget = this.storage[chartTarget];\n",
       "        } else if (Array.isArray(chartTarget)) {\n",
       "          for (let i = 0; i < chartTarget.length; i++) {\n",
       "            const target = chartTarget[i].target;\n",
       "            if (typeof target === \"string\") {\n",
       "              chartTarget[i].target = this.storage[target];\n",
       "            }\n",
       "          }\n",
       "        }\n",
       "        chart = chart.animate(chartTarget, chartAnimOpts);\n",
       "        this.controls[animId] = chart;\n",
       "        return chart;\n",
       "      });\n",
       "    }\n",
       "\n",
       "    store(element, chartId, id) {\n",
       "      if (IpyVizzu.nbconvert) IpyVizzu._hide(element);\n",
       "      this.charts[chartId] = this.charts[chartId].then((chart) => {\n",
       "        this.storage[id] = chart.store();\n",
       "        return chart;\n",
       "      });\n",
       "    }\n",
       "\n",
       "    feature(element, chartId, name, enabled) {\n",
       "      if (IpyVizzu.nbconvert) IpyVizzu._hide(element);\n",
       "      this.charts[chartId] = this.charts[chartId].then((chart) => {\n",
       "        chart.feature(name, enabled);\n",
       "        return chart;\n",
       "      });\n",
       "    }\n",
       "\n",
       "    setEvent(element, chartId, id, event, handler) {\n",
       "      if (IpyVizzu.nbconvert) IpyVizzu._hide(element);\n",
       "      this.charts[chartId] = this.charts[chartId].then((chart) => {\n",
       "        this.events[id] = handler;\n",
       "        chart.on(event, this.events[id]);\n",
       "        return chart;\n",
       "      });\n",
       "    }\n",
       "\n",
       "    clearEvent(element, chartId, id, event) {\n",
       "      if (IpyVizzu.nbconvert) IpyVizzu._hide(element);\n",
       "      this.charts[chartId] = this.charts[chartId].then((chart) => {\n",
       "        chart.off(event, this.events[id]);\n",
       "        return chart;\n",
       "      });\n",
       "    }\n",
       "\n",
       "    log(element, chartId, chartProperty) {\n",
       "      if (IpyVizzu.nbconvert) IpyVizzu._hide(element);\n",
       "      this.charts[chartId] = this.charts[chartId].then((chart) => {\n",
       "        console.log(chart[chartProperty]);\n",
       "        return chart;\n",
       "      });\n",
       "    }\n",
       "\n",
       "    control(element, method, prevId, lastId, ...params) {\n",
       "      if (IpyVizzu.nbconvert) IpyVizzu._hide(element);\n",
       "      this.controls[prevId].then(() => {\n",
       "        this.controls[lastId].activated.then((control) => {\n",
       "          if (method === \"seek\") {\n",
       "            const value = params[0];\n",
       "            control[method](value);\n",
       "            return;\n",
       "          }\n",
       "          if (method === \"store\") {\n",
       "            const id = params[0];\n",
       "            this.storage[id] = control[method]();\n",
       "            return;\n",
       "          }\n",
       "          control[method]();\n",
       "        });\n",
       "      });\n",
       "    }\n",
       "\n",
       "    _moveHere(chartId, element) {\n",
       "      if (IpyVizzu.nbconvert)\n",
       "        IpyVizzu._display(this.elements[chartId], element);\n",
       "      element.append(this.elements[chartId]);\n",
       "    }\n",
       "\n",
       "    _scroll(chartId, enabled) {\n",
       "      if (!IpyVizzu.inhibitScroll && enabled) {\n",
       "        this.elements[chartId].scrollIntoView({\n",
       "          behavior: \"auto\",\n",
       "          block: \"center\",\n",
       "        });\n",
       "      }\n",
       "    }\n",
       "\n",
       "    static _hide(element) {\n",
       "      document.getElementById(\n",
       "        element.selector.substring(1)\n",
       "      ).parentNode.style.display = \"none\";\n",
       "    }\n",
       "\n",
       "    static _display(prevElement, element) {\n",
       "      if (prevElement.parentNode) {\n",
       "        prevElement.parentNode.style.display = \"none\";\n",
       "      }\n",
       "      document.getElementById(\n",
       "        element.selector.substring(1)\n",
       "      ).parentNode.style.display = \"flex\";\n",
       "      document.getElementById(\n",
       "        element.selector.substring(1)\n",
       "      ).parentNode.style.margin = \"auto\";\n",
       "    }\n",
       "  }\n",
       "\n",
       "  window.IpyVizzu = IpyVizzu;\n",
       "  window.ipyvizzu = new window.IpyVizzu();\n",
       "}\n"
      ]
     },
     "metadata": {},
     "output_type": "display_data"
    },
    {
     "data": {
      "application/javascript": [
       "window.ipyvizzu.createChart(element, 'b62d8b5', 'https://cdn.jsdelivr.net/npm/vizzu@0.7/dist/vizzu.min.js', '100%', '360px');"
      ]
     },
     "metadata": {},
     "output_type": "display_data"
    },
    {
     "data": {
      "application/javascript": [
       "window.ipyvizzu.animate(element, 'b62d8b5', '4edf092', 'actual', false, lib => { return {\"data\": {\"series\": [{\"name\": \"Year\", \"type\": \"dimension\", \"values\": [\"1973\", \"1973\", \"1973\", \"1973\", \"1973\", \"1973\", \"1973\", \"1973\", \"1974\", \"1974\", \"1974\", \"1974\", \"1974\", \"1974\", \"1974\", \"1974\", \"1975\", \"1975\", \"1975\", \"1975\", \"1975\", \"1975\", \"1975\", \"1975\", \"1976\", \"1976\", \"1976\", \"1976\", \"1976\", \"1976\", \"1976\", \"1976\", \"1977\", \"1977\", \"1977\", \"1977\", \"1977\", \"1977\", \"1977\", \"1977\", \"1978\", \"1978\", \"1978\", \"1978\", \"1978\", \"1978\", \"1978\", \"1978\", \"1979\", \"1979\", \"1979\", \"1979\", \"1979\", \"1979\", \"1979\", \"1979\", \"1980\", \"1980\", \"1980\", \"1980\", \"1980\", \"1980\", \"1980\", \"1980\", \"1981\", \"1981\", \"1981\", \"1981\", \"1981\", \"1981\", \"1981\", \"1981\", \"1982\", \"1982\", \"1982\", \"1982\", \"1982\", \"1982\", \"1982\", \"1982\", \"1983\", \"1983\", \"1983\", \"1983\", \"1983\", \"1983\", \"1983\", \"1983\", \"1984\", \"1984\", \"1984\", \"1984\", \"1984\", \"1984\", \"1984\", \"1984\", \"1985\", \"1985\", \"1985\", \"1985\", \"1985\", \"1985\", \"1985\", \"1985\", \"1986\", \"1986\", \"1986\", \"1986\", \"1986\", \"1986\", \"1986\", \"1986\", \"1987\", \"1987\", \"1987\", \"1987\", \"1987\", \"1987\", \"1987\", \"1987\", \"1988\", \"1988\", \"1988\", \"1988\", \"1988\", \"1988\", \"1988\", \"1988\", \"1989\", \"1989\", \"1989\", \"1989\", \"1989\", \"1989\", \"1989\", \"1989\", \"1990\", \"1990\", \"1990\", \"1990\", \"1990\", \"1990\", \"1990\", \"1990\", \"1991\", \"1991\", \"1991\", \"1991\", \"1991\", \"1991\", \"1991\", \"1991\", \"1992\", \"1992\", \"1992\", \"1992\", \"1992\", \"1992\", \"1992\", \"1992\", \"1993\", \"1993\", \"1993\", \"1993\", \"1993\", \"1993\", \"1993\", \"1993\", \"1994\", \"1994\", \"1994\", \"1994\", \"1994\", \"1994\", \"1994\", \"1994\", \"1995\", \"1995\", \"1995\", \"1995\", \"1995\", \"1995\", \"1995\", \"1995\", \"1996\", \"1996\", \"1996\", \"1996\", \"1996\", \"1996\", \"1996\", \"1996\", \"1997\", \"1997\", \"1997\", \"1997\", \"1997\", \"1997\", \"1997\", \"1997\", \"1998\", \"1998\", \"1998\", \"1998\", \"1998\", \"1998\", \"1998\", \"1998\", \"1999\", \"1999\", \"1999\", \"1999\", \"1999\", \"1999\", \"1999\", \"1999\", \"2000\", \"2000\", \"2000\", \"2000\", \"2000\", \"2000\", \"2000\", \"2000\", \"2001\", \"2001\", \"2001\", \"2001\", \"2001\", \"2001\", \"2001\", \"2001\", \"2002\", \"2002\", \"2002\", \"2002\", \"2002\", \"2002\", \"2002\", \"2002\", \"2003\", \"2003\", \"2003\", \"2003\", \"2003\", \"2003\", \"2003\", \"2003\", \"2004\", \"2004\", \"2004\", \"2004\", \"2004\", \"2004\", \"2004\", \"2004\", \"2005\", \"2005\", \"2005\", \"2005\", \"2005\", \"2005\", \"2005\", \"2005\", \"2006\", \"2006\", \"2006\", \"2006\", \"2006\", \"2006\", \"2006\", \"2006\", \"2007\", \"2007\", \"2007\", \"2007\", \"2007\", \"2007\", \"2007\", \"2007\", \"2008\", \"2008\", \"2008\", \"2008\", \"2008\", \"2008\", \"2008\", \"2008\", \"2009\", \"2009\", \"2009\", \"2009\", \"2009\", \"2009\", \"2009\", \"2009\", \"2010\", \"2010\", \"2010\", \"2010\", \"2010\", \"2010\", \"2010\", \"2010\", \"2011\", \"2011\", \"2011\", \"2011\", \"2011\", \"2011\", \"2011\", \"2011\", \"2012\", \"2012\", \"2012\", \"2012\", \"2012\", \"2012\", \"2012\", \"2012\", \"2013\", \"2013\", \"2013\", \"2013\", \"2013\", \"2013\", \"2013\", \"2013\", \"2014\", \"2014\", \"2014\", \"2014\", \"2014\", \"2014\", \"2014\", \"2014\", \"2015\", \"2015\", \"2015\", \"2015\", \"2015\", \"2015\", \"2015\", \"2015\", \"2016\", \"2016\", \"2016\", \"2016\", \"2016\", \"2016\", \"2016\", \"2016\", \"2017\", \"2017\", \"2017\", \"2017\", \"2017\", \"2017\", \"2017\", \"2017\", \"2018\", \"2018\", \"2018\", \"2018\", \"2018\", \"2018\", \"2018\", \"2018\", \"2019\", \"2019\", \"2019\", \"2019\", \"2019\", \"2019\", \"2019\", \"2019\", \"2020\", \"2020\", \"2020\", \"2020\", \"2020\", \"2020\", \"2020\", \"2020\"]}, {\"name\": \"Format\", \"type\": \"dimension\", \"values\": [\"DVD\", \"Other\", \"Tape\", \"Download\", \"Streaming\", \"Cassette\", \"Vinyl\", \"CD\", \"DVD\", \"Other\", \"Tape\", \"Download\", \"Streaming\", \"Cassette\", \"Vinyl\", \"CD\", \"DVD\", \"Other\", \"Tape\", \"Download\", \"Streaming\", \"Cassette\", \"Vinyl\", \"CD\", \"DVD\", \"Other\", \"Tape\", \"Download\", \"Streaming\", \"Cassette\", \"Vinyl\", \"CD\", \"DVD\", \"Other\", \"Tape\", \"Download\", \"Streaming\", \"Cassette\", \"Vinyl\", \"CD\", \"DVD\", \"Other\", \"Tape\", \"Download\", \"Streaming\", \"Cassette\", \"Vinyl\", \"CD\", \"DVD\", \"Other\", \"Tape\", \"Download\", \"Streaming\", \"Cassette\", \"Vinyl\", \"CD\", \"DVD\", \"Other\", \"Tape\", \"Download\", \"Streaming\", \"Cassette\", \"Vinyl\", \"CD\", \"DVD\", \"Other\", \"Tape\", \"Download\", \"Streaming\", \"Cassette\", \"Vinyl\", \"CD\", \"DVD\", \"Other\", \"Tape\", \"Download\", \"Streaming\", \"Cassette\", \"Vinyl\", \"CD\", \"DVD\", \"Other\", \"Tape\", \"Download\", \"Streaming\", \"Cassette\", \"Vinyl\", \"CD\", \"DVD\", \"Other\", \"Tape\", \"Download\", \"Streaming\", \"Cassette\", \"Vinyl\", \"CD\", \"DVD\", \"Other\", \"Tape\", \"Download\", \"Streaming\", \"Cassette\", \"Vinyl\", \"CD\", \"DVD\", \"Other\", \"Tape\", \"Download\", \"Streaming\", \"Cassette\", \"Vinyl\", \"CD\", \"DVD\", \"Other\", \"Tape\", \"Download\", \"Streaming\", \"Cassette\", \"Vinyl\", \"CD\", \"DVD\", \"Other\", \"Tape\", \"Download\", \"Streaming\", \"Cassette\", \"Vinyl\", \"CD\", \"DVD\", \"Other\", \"Tape\", \"Download\", \"Streaming\", \"Cassette\", \"Vinyl\", \"CD\", \"DVD\", \"Other\", \"Tape\", \"Download\", \"Streaming\", \"Cassette\", \"Vinyl\", \"CD\", \"DVD\", \"Other\", \"Tape\", \"Download\", \"Streaming\", \"Cassette\", \"Vinyl\", \"CD\", \"DVD\", \"Other\", \"Tape\", \"Download\", \"Streaming\", \"Cassette\", \"Vinyl\", \"CD\", \"DVD\", \"Other\", \"Tape\", \"Download\", \"Streaming\", \"Cassette\", \"Vinyl\", \"CD\", \"DVD\", \"Other\", \"Tape\", \"Download\", \"Streaming\", \"Cassette\", \"Vinyl\", \"CD\", \"DVD\", \"Other\", \"Tape\", \"Download\", \"Streaming\", \"Cassette\", \"Vinyl\", \"CD\", \"DVD\", \"Other\", \"Tape\", \"Download\", \"Streaming\", \"Cassette\", \"Vinyl\", \"CD\", \"DVD\", \"Other\", \"Tape\", \"Download\", \"Streaming\", \"Cassette\", \"Vinyl\", \"CD\", \"DVD\", \"Other\", \"Tape\", \"Download\", \"Streaming\", \"Cassette\", \"Vinyl\", \"CD\", \"DVD\", \"Other\", \"Tape\", \"Download\", \"Streaming\", \"Cassette\", \"Vinyl\", \"CD\", \"DVD\", \"Other\", \"Tape\", \"Download\", \"Streaming\", \"Cassette\", \"Vinyl\", \"CD\", \"DVD\", \"Other\", \"Tape\", \"Download\", \"Streaming\", \"Cassette\", \"Vinyl\", \"CD\", \"DVD\", \"Other\", \"Tape\", \"Download\", \"Streaming\", \"Cassette\", \"Vinyl\", \"CD\", \"DVD\", \"Other\", \"Tape\", \"Download\", \"Streaming\", \"Cassette\", \"Vinyl\", \"CD\", \"DVD\", \"Other\", \"Tape\", \"Download\", \"Streaming\", \"Cassette\", \"Vinyl\", \"CD\", \"DVD\", \"Other\", \"Tape\", \"Download\", \"Streaming\", \"Cassette\", \"Vinyl\", \"CD\", \"DVD\", \"Other\", \"Tape\", \"Download\", \"Streaming\", \"Cassette\", \"Vinyl\", \"CD\", \"DVD\", \"Other\", \"Tape\", \"Download\", \"Streaming\", \"Cassette\", \"Vinyl\", \"CD\", \"DVD\", \"Other\", \"Tape\", \"Download\", \"Streaming\", \"Cassette\", \"Vinyl\", \"CD\", \"DVD\", \"Other\", \"Tape\", \"Download\", \"Streaming\", \"Cassette\", \"Vinyl\", \"CD\", \"DVD\", \"Other\", \"Tape\", \"Download\", \"Streaming\", \"Cassette\", \"Vinyl\", \"CD\", \"DVD\", \"Other\", \"Tape\", \"Download\", \"Streaming\", \"Cassette\", \"Vinyl\", \"CD\", \"DVD\", \"Other\", \"Tape\", \"Download\", \"Streaming\", \"Cassette\", \"Vinyl\", \"CD\", \"DVD\", \"Other\", \"Tape\", \"Download\", \"Streaming\", \"Cassette\", \"Vinyl\", \"CD\", \"DVD\", \"Other\", \"Tape\", \"Download\", \"Streaming\", \"Cassette\", \"Vinyl\", \"CD\", \"DVD\", \"Other\", \"Tape\", \"Download\", \"Streaming\", \"Cassette\", \"Vinyl\", \"CD\", \"DVD\", \"Other\", \"Tape\", \"Download\", \"Streaming\", \"Cassette\", \"Vinyl\", \"CD\", \"DVD\", \"Other\", \"Tape\", \"Download\", \"Streaming\", \"Cassette\", \"Vinyl\", \"CD\", \"DVD\", \"Other\", \"Tape\", \"Download\", \"Streaming\", \"Cassette\", \"Vinyl\", \"CD\", \"DVD\", \"Other\", \"Tape\", \"Download\", \"Streaming\", \"Cassette\", \"Vinyl\", \"CD\", \"DVD\", \"Other\", \"Tape\", \"Download\", \"Streaming\", \"Cassette\", \"Vinyl\", \"CD\"]}, {\"name\": \"Revenue[$]\", \"type\": \"measure\", \"values\": [0.0, 0.0, 2941000000.0, 0.0, 0.0, 443000000.0, 8371000000.0, 0.0, 0.0, 0.0, 2953000000.0, 0.0, 0.0, 458000000.0, 8137000000.0, 0.0, 0.0, 0.0, 2854000000.0, 0.0, 0.0, 475000000.0, 8161000000.0, 0.0, 0.0, 0.0, 3108000000.0, 0.0, 0.0, 663000000.0, 8679000000.0, 0.0, 0.0, 0.0, 3464000000.0, 0.0, 0.0, 1066000000.0, 10422000000.0, 0.0, 0.0, 0.0, 3763000000.0, 0.0, 0.0, 1785000000.0, 10851000000.0, 0.0, 0.0, 0.0, 2439000000.0, 0.0, 0.0, 2070000000.0, 8594000000.0, 0.0, 0.0, 0.0, 1655000000.0, 0.0, 0.0, 2214000000.0, 7695000000.0, 0.0, 0.0, 0.0, 891000000.0, 0.0, 0.0, 3026000000.0, 7397000000.0, 0.0, 0.0, 0.0, 97000000.0, 0.0, 0.0, 3713000000.0, 5922000000.0, 0.0, 0.0, 0.0, 0.0, 0.0, 0.0, 4706000000.0, 5089000000.0, 45000000.0, 0.0, 0.0, 0.0, 0.0, 0.0, 5938000000.0, 4602000000.0, 257000000.0, 0.0, 0.0, 0.0, 0.0, 0.0, 5800000000.0, 3756000000.0, 937000000.0, 0.0, 0.0, 0.0, 0.0, 0.0, 5902000000.0, 2860000000.0, 2196000000.0, 0.0, 0.0, 0.0, 0.0, 0.0, 6776000000.0, 2270000000.0, 3631000000.0, 0.0, 0.0, 0.0, 0.0, 0.0, 7531000000.0, 1559000000.0, 4594000000.0, 0.0, 241000000.0, 0.0, 0.0, 0.0, 7389000000.0, 703000000.0, 5401000000.0, 0.0, 341000000.0, 0.0, 0.0, 0.0, 7387000000.0, 358000000.0, 6847000000.0, 0.0, 224000000.0, 0.0, 0.0, 0.0, 6176000000.0, 177000000.0, 8309000000.0, 0.0, 290000000.0, 0.0, 0.0, 0.0, 6300000000.0, 147000000.0, 9909000000.0, 0.0, 382000000.0, 0.0, 0.0, 0.0, 5757000000.0, 111000000.0, 11744000000.0, 0.0, 404000000.0, 0.0, 0.0, 0.0, 5678000000.0, 114000000.0, 14880000000.0, 0.0, 374000000.0, 0.0, 0.0, 0.0, 4313000000.0, 122000000.0, 16113000000.0, 0.0, 389000000.0, 0.0, 0.0, 0.0, 3455000000.0, 139000000.0, 16691000000.0, 0.0, 522000000.0, 0.0, 0.0, 0.0, 2671000000.0, 111000000.0, 16428000000.0, 0.0, 807000000.0, 0.0, 0.0, 0.0, 2404000000.0, 95000000.0, 18465000000.0, 0.0, 585000000.0, 0.0, 0.0, 0.0, 1724000000.0, 93000000.0, 20255000000.0, 0.0, 424000000.0, 0.0, 0.0, 0.0, 948000000.0, 81000000.0, 20075000000.0, 8800000.0, 481000000.0, 0.0, 0.0, 0.0, 531000000.0, 86000000.0, 18982000000.0, 12000000.0, 415000000.0, 0.0, 0.0, 0.0, 302000000.0, 65000000.0, 17355000000.0, 11000000.0, 562000000.0, 0.0, 0.0, 0.0, 152000000.0, 61000000.0, 15888000000.0, 8900000.0, 832000000.0, 0.0, 251000000.0, 9500000.0, 32000000.0, 54000000.0, 15726000000.0, 15000000.0, 1358000000.0, 0.0, 666000000.0, 225000000.0, 17000000.0, 36000000.0, 13969000000.0, 3100000.0, 1575000000.0, 0.0, 1125000000.0, 307000000.0, 4800000.0, 33000000.0, 12049000000.0, 3500000.0, 1927000000.0, 0.0, 1669000000.0, 337000000.0, 3700000.0, 34000000.0, 9324000000.0, 1400000.0, 1451000000.0, 0.0, 2054000000.0, 386000000.0, 1100000.0, 72000000.0, 6585000000.0, 1900000.0, 1351000000.0, 0.0, 2361000000.0, 436000000.0, 0.0, 80000000.0, 5217000000.0, 1100000.0, 974000000.0, 0.0, 2665000000.0, 548000000.0, 0.0, 108000000.0, 4028000000.0, 300000.0, 721000000.0, 0.0, 3021000000.0, 752000000.0, 0.0, 143000000.0, 3573000000.0, 200000.0, 515000000.0, 0.0, 3235000000.0, 1164000000.0, 0.0, 187000000.0, 2807000000.0, 0.0, 445000000.0, 0.0, 3136000000.0, 1616000000.0, 0.0, 237000000.0, 2382000000.0, 2300000.0, 381000000.0, 0.0, 2719000000.0, 1998000000.0, 0.0, 273000000.0, 1947000000.0, 5900000.0, 362000000.0, 0.0, 2464000000.0, 2546000000.0, 0.0, 370000000.0, 1580000000.0, 3100000.0, 357000000.0, 0.0, 1930000000.0, 4179000000.0, 0.0, 389000000.0, 1221000000.0, 300000.0, 325000000.0, 0.0, 1412000000.0, 5721000000.0, 0.0, 417000000.0, 1103000000.0, 300000.0, 351000000.0, 0.0, 1038000000.0, 7491000000.0, 0.0, 438000000.0, 718000000.0, 1300000.0, 333000000.0, 0.0, 810000000.0, 8992000000.0, 0.0, 492000000.0, 639000000.0, 1800000.0, 314000000.0, 0.0, 653000000.0, 10075000000.0, 0.0, 626000000.0, 484000000.0]}]}} }, undefined);"
      ]
     },
     "metadata": {},
     "output_type": "display_data"
    }
   ],
   "source": [
    "# Create empty chart\n",
    "# Rerun this cell if you want to start over\n",
    "\n",
    "chart = Chart(width='100%', height='360px')\n",
    "\n",
    "chart.animate(data)"
   ]
  },
  {
   "cell_type": "code",
   "execution_count": 3,
   "metadata": {
    "scrolled": false
   },
   "outputs": [
    {
     "data": {
      "application/javascript": [
       "if (window.IpyVizzu) { window.IpyVizzu.clearInhibitScroll(element); }"
      ]
     },
     "metadata": {},
     "output_type": "display_data"
    },
    {
     "data": {
      "application/javascript": [
       "window.ipyvizzu.animate(element, 'b62d8b5', 'c1bbe59', 'actual', false, lib => { return {\"config\": lib.presets.bar({'x': 'Revenue[$]', 'y': 'Format', 'title': 'Revenue by Music Format 1973-2020'})} }, undefined);"
      ]
     },
     "metadata": {},
     "output_type": "display_data"
    }
   ],
   "source": [
    "# Use bar chart preset\n",
    "\n",
    "chart.animate(\n",
    "   Config.bar(\n",
    "        {\n",
    "            'x': 'Revenue[$]',\n",
    "            'y': 'Format',\n",
    "            'title': 'Revenue by Music Format 1973-2020',\n",
    "        }\n",
    "    )\n",
    ")"
   ]
  },
  {
   "cell_type": "code",
   "execution_count": 4,
   "metadata": {},
   "outputs": [
    {
     "data": {
      "application/javascript": [
       "if (window.IpyVizzu) { window.IpyVizzu.clearInhibitScroll(element); }"
      ]
     },
     "metadata": {},
     "output_type": "display_data"
    },
    {
     "data": {
      "application/javascript": [
       "window.ipyvizzu.animate(element, 'b62d8b5', '6d72456', 'actual', false, lib => { return {\"config\": lib.presets.groupedBar({'x': 'Revenue[$]', 'y': 'Format', 'groupedBy': 'Format'})} }, undefined);"
      ]
     },
     "metadata": {},
     "output_type": "display_data"
    }
   ],
   "source": [
    "# Use grouped bar chart preset\n",
    "\n",
    "chart.animate(\n",
    "   Config.groupedBar(\n",
    "        {\n",
    "            'x': 'Revenue[$]',\n",
    "            'y': 'Format',\n",
    "            'groupedBy': 'Format',\n",
    "        }\n",
    "    )\n",
    ")"
   ]
  },
  {
   "cell_type": "code",
   "execution_count": 5,
   "metadata": {},
   "outputs": [
    {
     "data": {
      "application/javascript": [
       "if (window.IpyVizzu) { window.IpyVizzu.clearInhibitScroll(element); }"
      ]
     },
     "metadata": {},
     "output_type": "display_data"
    },
    {
     "data": {
      "application/javascript": [
       "window.ipyvizzu.animate(element, 'b62d8b5', '9f3c52a', 'actual', false, lib => { return {\"style\": {\"fontFamily\": \"Arial\", \"title\": {\"fontSize\": \"2.5em\"}, \"plot\": {\"backgroundColor\": \"#FFFFFFFF\", \"marker\": {\"colorPalette\": \"#b74c20FF #c47f58FF #1c9761FF #ea4549FF #875792FF #3562b6FF #ee7c34FF #efae3aFF\", \"label\": {\"numberFormat\": \"prefixed\", \"maxFractionDigits\": \"1\", \"numberScale\": \"shortScaleSymbolUS\"}, \"fillOpacity\": \"1\"}, \"xAxis\": {\"label\": {\"numberScale\": \"shortScaleSymbolUS\"}}, \"yAxis\": {\"label\": {\"numberScale\": \"shortScaleSymbolUS\"}}}}} }, undefined);"
      ]
     },
     "metadata": {},
     "output_type": "display_data"
    }
   ],
   "source": [
    "# Add styling\n",
    "\n",
    "chart.animate(\n",
    "     Style({\n",
    "        'fontFamily' : 'Arial',\n",
    "        'title': {'fontSize': '2.5em'},\n",
    "        'plot': {\n",
    "            'backgroundColor': '#FFFFFFFF',\n",
    "            'marker': { \n",
    "                'colorPalette': '#b74c20FF #c47f58FF #1c9761FF #ea4549FF #875792FF #3562b6FF #ee7c34FF #efae3aFF',\n",
    "                'label' :{ \n",
    "                    'numberFormat' : 'prefixed',\n",
    "                    'maxFractionDigits' : '1',\n",
    "                    'numberScale':'shortScaleSymbolUS'\n",
    "                },\n",
    "                'fillOpacity' : '1'\n",
    "            },\n",
    "            'xAxis': { \n",
    "                'label': { \n",
    "                    'numberScale':'shortScaleSymbolUS'\n",
    "                },\n",
    "                #'title' : {'color':'#00000000'} \n",
    "            },\n",
    "            'yAxis': { 'label': { 'numberScale':'shortScaleSymbolUS'}}  \n",
    "        }\n",
    "    })\n",
    " )"
   ]
  },
  {
   "cell_type": "code",
   "execution_count": 6,
   "metadata": {},
   "outputs": [
    {
     "data": {
      "application/javascript": [
       "if (window.IpyVizzu) { window.IpyVizzu.clearInhibitScroll(element); }"
      ]
     },
     "metadata": {},
     "output_type": "display_data"
    },
    {
     "data": {
      "application/javascript": [
       "window.ipyvizzu.animate(element, 'b62d8b5', '2f33b8d', 'actual', false, lib => { return {\"config\": lib.presets.bubble({'size': 'Revenue[$]', 'color': 'Format'})} }, undefined);"
      ]
     },
     "metadata": {},
     "output_type": "display_data"
    }
   ],
   "source": [
    "# Use bubble chart preset    \n",
    "\n",
    "chart.animate(\n",
    "    Config.bubble(\n",
    "        {\n",
    "            'size': 'Revenue[$]',\n",
    "            'color': 'Format',\n",
    "        }\n",
    "    )\n",
    ")"
   ]
  },
  {
   "cell_type": "code",
   "execution_count": 7,
   "metadata": {},
   "outputs": [
    {
     "data": {
      "application/javascript": [
       "if (window.IpyVizzu) { window.IpyVizzu.clearInhibitScroll(element); }"
      ]
     },
     "metadata": {},
     "output_type": "display_data"
    },
    {
     "data": {
      "application/javascript": [
       "window.ipyvizzu.animate(element, 'b62d8b5', 'bbfeb5a', 'actual', false, lib => { return {\"config\": lib.presets.stackedBubble({'size': 'Revenue[$]', 'color': 'Format', 'stackedBy': 'Year'})} }, undefined);"
      ]
     },
     "metadata": {},
     "output_type": "display_data"
    },
    {
     "data": {
      "application/javascript": [
       "window.ipyvizzu.feature(element, 'b62d8b5', 'tooltip', true);"
      ]
     },
     "metadata": {},
     "output_type": "display_data"
    }
   ],
   "source": [
    "# Use stacked bubble chart preset & turn on tooltip\n",
    "\n",
    "chart.animate(\n",
    "    Config.stackedBubble(\n",
    "        {\n",
    "            'size': 'Revenue[$]',\n",
    "            'color': 'Format',\n",
    "            'stackedBy': 'Year'\n",
    "        }\n",
    "    )\n",
    ")\n",
    "\n",
    "chart.feature('tooltip', True)"
   ]
  },
  {
   "cell_type": "code",
   "execution_count": 8,
   "metadata": {},
   "outputs": [
    {
     "data": {
      "application/javascript": [
       "if (window.IpyVizzu) { window.IpyVizzu.clearInhibitScroll(element); }"
      ]
     },
     "metadata": {},
     "output_type": "display_data"
    },
    {
     "data": {
      "application/javascript": [
       "window.ipyvizzu.animate(element, 'b62d8b5', 'b5df999', 'actual', false, lib => { return {\"config\": lib.presets.stream({'x': 'Year', 'y': 'Revenue[$]', 'stackedBy': 'Format', 'title': 'Revenue by Music Format 1973-2020'}), \"style\": {\"plot\": {\"xAxis\": {\"label\": {\"fontSize\": 9, \"angle\": 2.0}}}}} }, undefined);"
      ]
     },
     "metadata": {},
     "output_type": "display_data"
    }
   ],
   "source": [
    "# Use stream graph preset    \n",
    "\n",
    "chart.animate(\n",
    "    Config.stream(\n",
    "            {\n",
    "                'x': 'Year',\n",
    "                'y': 'Revenue[$]',\n",
    "                'stackedBy': 'Format',\n",
    "                'title': 'Revenue by Music Format 1973-2020',\n",
    "            }),\n",
    "# Change styling of the x-axis labels\n",
    "    Style({ 'plot': { 'xAxis': { \n",
    "        'label': { 'fontSize': 9, 'angle': 2.0 }\n",
    "    }}})\n",
    ")"
   ]
  },
  {
   "cell_type": "code",
   "execution_count": 9,
   "metadata": {},
   "outputs": [
    {
     "data": {
      "application/javascript": [
       "if (window.IpyVizzu) { window.IpyVizzu.clearInhibitScroll(element); }"
      ]
     },
     "metadata": {},
     "output_type": "display_data"
    },
    {
     "data": {
      "application/javascript": [
       "window.ipyvizzu.setEvent(element, 'b62d8b5', '9787b48', 'plot-axis-label-draw', event => { let Year = parseFloat(event.data.text); if (!isNaN(Year) && Year > 1950 && Year < 2020 && Year % 5 !== 0) { event.preventDefault(); } });"
      ]
     },
     "metadata": {},
     "output_type": "display_data"
    },
    {
     "data": {
      "text/plain": [
       "<ipyvizzu.event.EventHandler at 0x1d704176a30>"
      ]
     },
     "execution_count": 9,
     "metadata": {},
     "output_type": "execute_result"
    }
   ],
   "source": [
    "# Set a handler to show only years divisible by 5\n",
    "\n",
    "handler = '''\n",
    "let Year = parseFloat(event.data.text);\n",
    "if (!isNaN(Year) && Year > 1950 && Year < 2020 && Year % 5 !== 0) {\n",
    "    event.preventDefault();\n",
    "}\n",
    "'''\n",
    "\n",
    "# Add handler to the plot-axis-label-draw event\n",
    "chart.on('plot-axis-label-draw', handler)"
   ]
  },
  {
   "cell_type": "code",
   "execution_count": 10,
   "metadata": {},
   "outputs": [
    {
     "data": {
      "application/javascript": [
       "if (window.IpyVizzu) { window.IpyVizzu.clearInhibitScroll(element); }"
      ]
     },
     "metadata": {},
     "output_type": "display_data"
    },
    {
     "data": {
      "application/javascript": [
       "window.ipyvizzu.animate(element, 'b62d8b5', 'c91f946', 'actual', false, lib => { return {\"config\": {\"split\": true}} }, undefined);"
      ]
     },
     "metadata": {},
     "output_type": "display_data"
    }
   ],
   "source": [
    "# Turn on splitting feature to show stacked components\n",
    "# side-by-side\n",
    "\n",
    "chart.animate(\n",
    "    Config(\n",
    "        {\n",
    "            'split': True\n",
    "        }\n",
    "    )\n",
    ")"
   ]
  },
  {
   "cell_type": "code",
   "execution_count": 15,
   "metadata": {},
   "outputs": [
    {
     "data": {
      "application/javascript": [
       "if (window.IpyVizzu) { window.IpyVizzu.clearInhibitScroll(element); }"
      ]
     },
     "metadata": {},
     "output_type": "display_data"
    },
    {
     "data": {
      "application/javascript": [
       "window.ipyvizzu.animate(element, 'b62d8b5', 'a3d217a', 'actual', false, lib => { return {\"data\": {\"filter\": record => { return (record.Format == 'Vinyl' || record.Format == 'Streaming') }}, \"config\": {\"title\": \"Revenue of Vinyl & Streaming 1973-2020\"}} }, undefined);"
      ]
     },
     "metadata": {},
     "output_type": "display_data"
    }
   ],
   "source": [
    "# Use filtering to zoom in on certain categories\n",
    "# Javascript expression, only elements that fit \n",
    "# the criteria will be left on the chart\n",
    "\n",
    "chart.animate(\n",
    "    Data.filter(\n",
    "        \"record.Format == 'Vinyl' || record.Format == 'Streaming'\"\n",
    "    ),\n",
    "    Config(\n",
    "        {\n",
    "            'title': 'Revenue of Vinyl & Streaming 1973-2020'\n",
    "        }\n",
    "    )\n",
    ")"
   ]
  },
  {
   "cell_type": "code",
   "execution_count": 14,
   "metadata": {},
   "outputs": [
    {
     "data": {
      "application/javascript": [
       "if (window.IpyVizzu) { window.IpyVizzu.clearInhibitScroll(element); }"
      ]
     },
     "metadata": {},
     "output_type": "display_data"
    },
    {
     "data": {
      "application/javascript": [
       "window.ipyvizzu.animate(element, 'b62d8b5', 'f3781d0', 'actual', false, lib => { return {\"data\": {\"filter\": null}, \"config\": {\"title\": \"Revenue by Music Format 1973-2020\", \"split\": false}} }, undefined);"
      ]
     },
     "metadata": {},
     "output_type": "display_data"
    }
   ],
   "source": [
    "# Turn filtering and splitting off at once\n",
    "\n",
    "chart.animate(\n",
    "    Data.filter(None),\n",
    "    Config(\n",
    "        {\n",
    "            'title': 'Revenue by Music Format 1973-2020', \n",
    "            'split': False\n",
    "        }\n",
    "    )\n",
    ")"
   ]
  },
  {
   "cell_type": "code",
   "execution_count": 13,
   "metadata": {},
   "outputs": [
    {
     "data": {
      "application/javascript": [
       "if (window.IpyVizzu) { window.IpyVizzu.clearInhibitScroll(element); }"
      ]
     },
     "metadata": {},
     "output_type": "display_data"
    },
    {
     "data": {
      "application/javascript": [
       "window.ipyvizzu.animate(element, 'b62d8b5', 'e2d5397', 'actual', false, lib => { return {\"config\": lib.presets.line({'x': 'Year', 'y': 'Revenue[$]', 'dividedBy': 'Format'})} }, undefined);"
      ]
     },
     "metadata": {},
     "output_type": "display_data"
    }
   ],
   "source": [
    "# Use line chart preset\n",
    "\n",
    "chart.animate(\n",
    "    Config.line(\n",
    "        {\n",
    "            'x': 'Year',\n",
    "            'y': 'Revenue[$]',\n",
    "            'dividedBy': 'Format'\n",
    "        }\n",
    "    )\n",
    ")"
   ]
  }
 ],
 "metadata": {
  "kernelspec": {
   "display_name": "Python 3 (ipykernel)",
   "language": "python",
   "name": "python3"
  },
  "language_info": {
   "codemirror_mode": {
    "name": "ipython",
    "version": 3
   },
   "file_extension": ".py",
   "mimetype": "text/x-python",
   "name": "python",
   "nbconvert_exporter": "python",
   "pygments_lexer": "ipython3",
   "version": "3.9.12"
  },
  "title": "ipyvizzu - Story"
 },
 "nbformat": 4,
 "nbformat_minor": 2
}
