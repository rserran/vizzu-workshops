{
 "cells": [
  {
   "cell_type": "code",
   "execution_count": 3,
   "id": "9f94f693",
   "metadata": {},
   "outputs": [],
   "source": [
    "import pandas as pd"
   ]
  },
  {
   "cell_type": "code",
   "execution_count": 4,
   "id": "ec6cb2bd",
   "metadata": {},
   "outputs": [],
   "source": [
    "from ipyvizzu import Chart, Data, Config, Style\n",
    "from ipyvizzustory import Story, Slide, Step"
   ]
  },
  {
   "cell_type": "code",
   "execution_count": 8,
   "id": "344eb0eb",
   "metadata": {},
   "outputs": [
    {
     "data": {
      "text/plain": [
       "index     object\n",
       "bin       object\n",
       "cost     float64\n",
       "dtype: object"
      ]
     },
     "execution_count": 8,
     "metadata": {},
     "output_type": "execute_result"
    }
   ],
   "source": [
    "df = pd.DataFrame({'index':['0','1','2','3','4','5'], \n",
    "                   'bin': [1.0,1.0,1.0,2.0,2.0,2.0], \n",
    "                   'cost': [2.53,7.24,7.24,2.74,2.74,0.25]})\n",
    "\n",
    "df = df.astype({'bin': str})\n",
    "df.dtypes"
   ]
  },
  {
   "cell_type": "code",
   "execution_count": 14,
   "id": "a58c8fff",
   "metadata": {},
   "outputs": [
    {
     "data": {
      "text/html": [
       "\n",
       "<div>\n",
       "    <vizzu-player id=\"af1519f\"   controller></vizzu-player>\n",
       "    <script type=\"module\">\n",
       "        import VizzuPlayer from \"https://cdn.jsdelivr.net/npm/vizzu-story@0.4/dist/vizzu-story.min.js\";\n",
       "\n",
       "        const vp = document.getElementById(\"af1519f\");\n",
       "        import(vp.vizzuUrl).then(vizzuLoaded => {\n",
       "            const lib = vizzuLoaded.default;\n",
       "            const vizzuPlayerData = {\"data\": {\"series\": [{\"name\": \"index\", \"values\": [\"0\", \"1\", \"2\", \"3\", \"4\", \"5\"], \"type\": \"dimension\"}, {\"name\": \"bin\", \"values\": [\"1.0\", \"1.0\", \"1.0\", \"2.0\", \"2.0\", \"2.0\"], \"type\": \"dimension\"}, {\"name\": \"cost\", \"values\": [2.53, 7.24, 7.24, 2.74, 2.74, 0.25], \"type\": \"measure\"}]}, \"slides\": [[{\"config\": {\"x\": [\"bin\", \"cost\"], \"y\": \"index\", \"color\": \"bin\", \"split\": true, \"geometry\": \"area\", \"align\": \"center\"}}]]};\n",
       "            // story.set_size()\n",
       "            vp.style.cssText = 'width: 100%;height: 400px;'\n",
       "            vp.slides = vizzuPlayerData;\n",
       "            vp.initializing.then(chart => {\n",
       "                // story.set_feature()\n",
       "                chart.feature('tooltip', true);\n",
       "                // story.add_event()\n",
       "                \n",
       "            });\n",
       "        });\n",
       "    </script>\n",
       "</div>\n"
      ],
      "text/plain": [
       "<IPython.core.display.HTML object>"
      ]
     },
     "metadata": {},
     "output_type": "display_data"
    }
   ],
   "source": [
    "data = Data()\n",
    "data.add_df(df)\n",
    "story = Story(data=data)\n",
    "story.set_size(\"100%\", \"400px\")\n",
    "story.set_feature(\"tooltip\", True)\n",
    "\n",
    "slide1 = Slide(\n",
    "#Show number of respondents\n",
    "    Step(\n",
    "        Config(\n",
    "        {\n",
    "            'x': ['bin','cost'],\n",
    "            'y': 'index',\n",
    "            'color': 'bin',\n",
    "            'split': True,\n",
    "            'geometry': 'area',\n",
    "            'align':'center'\n",
    "        }\n",
    "        ),\n",
    "    )\n",
    ")\n",
    "story.add_slide(slide1)\n",
    "story.play()"
   ]
  }
 ],
 "metadata": {
  "kernelspec": {
   "display_name": "Python 3 (ipykernel)",
   "language": "python",
   "name": "python3"
  },
  "language_info": {
   "codemirror_mode": {
    "name": "ipython",
    "version": 3
   },
   "file_extension": ".py",
   "mimetype": "text/x-python",
   "name": "python",
   "nbconvert_exporter": "python",
   "pygments_lexer": "ipython3",
   "version": "3.9.12"
  }
 },
 "nbformat": 4,
 "nbformat_minor": 5
}
