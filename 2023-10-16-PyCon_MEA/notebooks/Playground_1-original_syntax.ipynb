{
 "cells": [
  {
   "cell_type": "markdown",
   "id": "bef2f5a2",
   "metadata": {},
   "source": [
    "# ipyvizzu Playground 1 - Config\n",
    "\n",
    "#### If you download this notebook, make sure to check out how to use it in your environment: https://ipyvizzu.vizzuhq.com/0.16/environments/\n",
    "#### Data source: UN Population Forecasts"
   ]
  },
  {
   "cell_type": "code",
   "execution_count": null,
   "id": "0150ffba",
   "metadata": {},
   "outputs": [],
   "source": [
    "#!pip install ipyvizzu"
   ]
  },
  {
   "cell_type": "code",
   "execution_count": null,
   "id": "cc93c15c",
   "metadata": {},
   "outputs": [],
   "source": [
    "import pandas as pd\n",
    "from ipyvizzu import Chart, Data, Config, Style\n",
    "\n",
    "data_frame = pd.read_csv('https://raw.githubusercontent.com/vizzuhq/vizzu-workshops/main/2023-04-25-PyData-Seattle/data/worldpopulation.csv',\n",
    "                         dtype={'Year': str})\n",
    "data = Data()\n",
    "data.add_df(data_frame)\n",
    "\n",
    "display(data_frame)"
   ]
  },
  {
   "cell_type": "code",
   "execution_count": null,
   "id": "17eac8c3",
   "metadata": {},
   "outputs": [],
   "source": [
    "# Create empty chart, turn on tooltip, set style\n",
    "\n",
    "chart = Chart(width='100%', height='360px')\n",
    "chart.feature('tooltip', True)\n",
    "\n",
    "style = Style({ 'plot': { \n",
    "                'marker': { 'label' :{ \n",
    "                    'numberFormat' : 'prefixed',\n",
    "                    'maxFractionDigits' : '1',\n",
    "                    'numberScale':'shortScaleSymbolUS'\n",
    "                }},\n",
    "                     'xAxis': { 'label': { 'angle': '-45deg',  'numberScale':'shortScaleSymbolUS'}},\n",
    "                     'yAxis': { 'label': { 'numberScale':'shortScaleSymbolUS'}}  \n",
    "            }})\n",
    "\n",
    "\n",
    "chart.animate(data, style)"
   ]
  },
  {
   "cell_type": "markdown",
   "id": "1d39c7f7",
   "metadata": {},
   "source": [
    "## Config\n",
    "There are\n",
    "- **axes**\n",
    "   - **x**\n",
    "   - **y**\n",
    "- **channels** \n",
    "   - **color** - sets the color of the markers\n",
    "   - **label** - sets the label shown on the markers\n",
    "   - **size** - sets the size of the markers when geometry is circle or line\n",
    "   - **lightness** - sets the color intensity of the markers - rarely works well together with color channel\n",
    "\n",
    "You can add any number of categorical and one numerical series to each of them.\n",
    "\n",
    "Other parameters include:           \n",
    "- **geometry** (*rectangle*, circle, area, line) - sets the geometric elements used on the charts\n",
    "- **coordSystem** (*cartesian*, polar) - sets the coordinate system\n",
    "- **sort** (*none*, byValue) - sets sorting by value on and off\n",
    "- **align** (*none*, min, max, center, stretch) - sets the alignment of the markers on the plot - stretch: switch to %\n",
    "- **title** (string) - sets the title of the chart\n",
    "- **split** (true, *false*) - splits a stacked chart to show values side-by-side\n",
    "\n",
    "*default values*"
   ]
  },
  {
   "cell_type": "code",
   "execution_count": null,
   "id": "5e36fe3a",
   "metadata": {},
   "outputs": [],
   "source": [
    "chart.animate(\n",
    "   Config({\n",
    "            'x': 'Year',\n",
    "            'y': 'Pop_High', #Pop_Low, Pop_High\n",
    "            'geometry': 'rectangle', #rectangle, line, area\n",
    "            'title': 'World Population 1953-2098',\n",
    "            'coordSystem': 'cartesian', #polar\n",
    "        })\n",
    ")"
   ]
  },
  {
   "cell_type": "code",
   "execution_count": null,
   "id": "be26928f",
   "metadata": {},
   "outputs": [],
   "source": [
    "chart.animate(\n",
    "    Config({\n",
    "            'y': ['Pop_Medium','Region'], #['Pop_Medium','Country'],\n",
    "            'color': 'Region', #'Country'\n",
    "            'title': 'Population of Regions 1953-2098',\n",
    "            'geometry': 'area', #circle, line, area\n",
    "\n",
    "            'split': False, # True\n",
    "            'align': 'stretch', # max, center, stretch\n",
    "        }),\n",
    ")\n"
   ]
  }
 ],
 "metadata": {
  "kernelspec": {
   "display_name": "Python 3 (ipykernel)",
   "language": "python",
   "name": "python3"
  },
  "language_info": {
   "codemirror_mode": {
    "name": "ipython",
    "version": 3
   },
   "file_extension": ".py",
   "mimetype": "text/x-python",
   "name": "python",
   "nbconvert_exporter": "python",
   "pygments_lexer": "ipython3",
   "version": "3.9.12"
  }
 },
 "nbformat": 4,
 "nbformat_minor": 5
}
