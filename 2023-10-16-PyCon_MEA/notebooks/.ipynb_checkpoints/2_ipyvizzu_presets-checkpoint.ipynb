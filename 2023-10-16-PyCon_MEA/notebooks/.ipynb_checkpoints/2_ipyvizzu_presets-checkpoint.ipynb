{
 "cells": [
  {
   "cell_type": "markdown",
   "metadata": {},
   "source": [
    "# ipyvizzu Intro - Presets, Styling & Filters\n",
    "\n",
    "### List of available [preset charts](https://ipyvizzu.vizzuhq.com/latest/examples/presets/)\n",
    "### Available [styling parameters](https://docs.google.com/spreadsheets/d/1b3e9L72EmLKib2dOZiBAOtPRLyibQJ3BkBIiVB2mKRg/edit#gid=1889754571) and some [illustrations](https://photos.app.goo.gl/Gvnr4U91SXtZXydA9) to help you get started\n",
    "\n",
    "### Data: The revenue of different music formats in the USA between 1973 - 2020"
   ]
  },
  {
   "cell_type": "code",
   "execution_count": null,
   "metadata": {
    "scrolled": true
   },
   "outputs": [],
   "source": [
    "# Import components, add data to pandas data frame\n",
    "\n",
    "import pandas as pd\n",
    "from ipyvizzu import Chart, Data, Config, Style\n",
    "\n",
    "data_frame = pd.read_csv('https://raw.githubusercontent.com/vizzuhq/vizzu-workshops/main/2023-04-25-PyData-Seattle/data/music.csv', \n",
    "                         dtype={'Year': str}\n",
    "                        )\n",
    "data = Data()\n",
    "data.add_df(data_frame)\n",
    "\n",
    "display(data_frame)"
   ]
  },
  {
   "cell_type": "code",
   "execution_count": null,
   "metadata": {},
   "outputs": [],
   "source": [
    "# Create empty chart\n",
    "# Rerun this cell if you want to start over\n",
    "\n",
    "chart = Chart(width='100%', height='360px')\n",
    "\n",
    "chart.animate(data)"
   ]
  },
  {
   "cell_type": "code",
   "execution_count": null,
   "metadata": {
    "scrolled": false
   },
   "outputs": [],
   "source": [
    "# Use bar chart preset\n",
    "\n",
    "chart.animate(\n",
    "   Config.bar(\n",
    "        {\n",
    "            'x': 'Revenue[$]',\n",
    "            'y': 'Format',\n",
    "            'title': 'Revenue by Music Format 1973-2020',\n",
    "        }\n",
    "    )\n",
    ")"
   ]
  },
  {
   "cell_type": "code",
   "execution_count": null,
   "metadata": {},
   "outputs": [],
   "source": [
    "# Use grouped bar chart preset\n",
    "\n",
    "chart.animate(\n",
    "   Config.groupedBar(\n",
    "        {\n",
    "            'x': 'Revenue[$]',\n",
    "            'y': 'Format',\n",
    "            'groupedBy': 'Format',\n",
    "        }\n",
    "    )\n",
    ")"
   ]
  },
  {
   "cell_type": "code",
   "execution_count": null,
   "metadata": {},
   "outputs": [],
   "source": [
    "# Add styling\n",
    "\n",
    "chart.animate(\n",
    "     Style({\n",
    "        'plot': {\n",
    "            'marker': { \n",
    "                'colorPalette': '#b74c20FF #c47f58FF #1c9761FF #ea4549FF #875792FF #3562b6FF #ee7c34FF #efae3aFF',\n",
    "                },\n",
    "            },\n",
    "    })\n",
    " )"
   ]
  },
  {
   "cell_type": "code",
   "execution_count": null,
   "metadata": {},
   "outputs": [],
   "source": [
    "# Add more styling\n",
    "\n",
    "chart.animate(\n",
    "     Style({\n",
    "        'fontFamily' : 'Arial',\n",
    "        'title': {'fontSize': '2.5em'},\n",
    "        'plot': {\n",
    "            'backgroundColor': '#FFFFFFFF',\n",
    "            'marker': { \n",
    "                'label' :{ \n",
    "                    'numberFormat' : 'prefixed',\n",
    "                    'maxFractionDigits' : '1',\n",
    "                    'numberScale':'shortScaleSymbolUS'\n",
    "                },\n",
    "                'fillOpacity' : '1'\n",
    "            },\n",
    "            'xAxis': { \n",
    "                'label': { \n",
    "                    'numberScale':'shortScaleSymbolUS'\n",
    "                },\n",
    "                #'title' : {'color':'#00000000'} \n",
    "            },\n",
    "            'yAxis': { 'label': { 'numberScale':'shortScaleSymbolUS'}}  \n",
    "        }\n",
    "    })\n",
    " )"
   ]
  },
  {
   "cell_type": "code",
   "execution_count": null,
   "metadata": {},
   "outputs": [],
   "source": [
    "# Use bubble chart preset    \n",
    "\n",
    "chart.animate(\n",
    "    Config.bubble(\n",
    "        {\n",
    "            'size': 'Revenue[$]',\n",
    "            'color': 'Format',\n",
    "        }\n",
    "    )\n",
    ")"
   ]
  },
  {
   "cell_type": "code",
   "execution_count": null,
   "metadata": {},
   "outputs": [],
   "source": [
    "# Use stacked bubble chart preset & turn on tooltip\n",
    "\n",
    "chart.animate(\n",
    "    Config.stackedBubble(\n",
    "        {\n",
    "            'size': 'Revenue[$]',\n",
    "            'color': 'Format',\n",
    "            'stackedBy': 'Year'\n",
    "        }\n",
    "    )\n",
    ")\n",
    "\n",
    "chart.feature('tooltip', True)"
   ]
  },
  {
   "cell_type": "code",
   "execution_count": null,
   "metadata": {},
   "outputs": [],
   "source": [
    "# Use stream graph preset    \n",
    "\n",
    "chart.animate(\n",
    "    Config.stream(\n",
    "            {\n",
    "                'x': 'Year',\n",
    "                'y': 'Revenue[$]',\n",
    "                'stackedBy': 'Format',\n",
    "                'title': 'Revenue by Music Format 1973-2020',\n",
    "            }),\n",
    "# Change styling of the x-axis labels\n",
    "    Style({ 'plot': { 'xAxis': { \n",
    "        'label': { 'fontSize': 9, 'angle': 2.0 }\n",
    "    }}})\n",
    ")"
   ]
  },
  {
   "cell_type": "code",
   "execution_count": null,
   "metadata": {},
   "outputs": [],
   "source": [
    "# Set a handler to show only years divisible by 5\n",
    "\n",
    "handler = '''\n",
    "let Year = parseFloat(event.data.text);\n",
    "if (!isNaN(Year) && Year > 1950 && Year < 2020 && Year % 5 !== 0) {\n",
    "    event.preventDefault();\n",
    "}\n",
    "'''\n",
    "\n",
    "# Add handler to the plot-axis-label-draw event\n",
    "chart.on('plot-axis-label-draw', handler)"
   ]
  },
  {
   "cell_type": "code",
   "execution_count": null,
   "metadata": {},
   "outputs": [],
   "source": [
    "# Turn on splitting feature to show stacked components\n",
    "# side-by-side\n",
    "\n",
    "chart.animate(\n",
    "    Config(\n",
    "        {\n",
    "            'split': True\n",
    "        }\n",
    "    )\n",
    ")"
   ]
  },
  {
   "cell_type": "code",
   "execution_count": null,
   "metadata": {},
   "outputs": [],
   "source": [
    "# Use filtering to zoom in on certain categories\n",
    "# Javascript expression, only elements that fit \n",
    "# the criteria will be left on the chart\n",
    "\n",
    "chart.animate(\n",
    "    Data.filter(\n",
    "        \"record.Format == 'Vinyl' || record.Format == 'Streaming'\"\n",
    "    ),\n",
    "    Config(\n",
    "        {\n",
    "            'title': 'Revenue of Vinyl & Streaming 1973-2020'\n",
    "        }\n",
    "    )\n",
    ")"
   ]
  },
  {
   "cell_type": "code",
   "execution_count": null,
   "metadata": {},
   "outputs": [],
   "source": [
    "# Turn filtering and splitting off at once\n",
    "\n",
    "chart.animate(\n",
    "    Data.filter(None),\n",
    "    Config(\n",
    "        {\n",
    "            'title': 'Revenue by Music Format 1973-2020', \n",
    "            'split': False\n",
    "        }\n",
    "    )\n",
    ")"
   ]
  },
  {
   "cell_type": "code",
   "execution_count": null,
   "metadata": {},
   "outputs": [],
   "source": [
    "# Use line chart preset\n",
    "\n",
    "chart.animate(\n",
    "    Config.line(\n",
    "        {\n",
    "            'x': 'Year',\n",
    "            'y': 'Revenue[$]',\n",
    "            'dividedBy': 'Format'\n",
    "        }\n",
    "    )\n",
    ")"
   ]
  }
 ],
 "metadata": {
  "kernelspec": {
   "display_name": "Python 3 (ipykernel)",
   "language": "python",
   "name": "python3"
  },
  "language_info": {
   "codemirror_mode": {
    "name": "ipython",
    "version": 3
   },
   "file_extension": ".py",
   "mimetype": "text/x-python",
   "name": "python",
   "nbconvert_exporter": "python",
   "pygments_lexer": "ipython3",
   "version": "3.9.12"
  },
  "title": "ipyvizzu - Story"
 },
 "nbformat": 4,
 "nbformat_minor": 2
}
