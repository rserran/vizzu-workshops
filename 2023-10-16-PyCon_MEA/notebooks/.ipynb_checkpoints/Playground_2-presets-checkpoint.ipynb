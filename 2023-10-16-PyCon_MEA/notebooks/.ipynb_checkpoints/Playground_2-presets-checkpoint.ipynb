{
 "cells": [
  {
   "cell_type": "markdown",
   "id": "54823069",
   "metadata": {},
   "source": [
    "# ipyvizzu Playground 2 - Presets, Styling & Filters\n",
    "\n",
    "#### If you download this notebook, make sure to check out how to use it in your environment: https://ipyvizzu.vizzuhq.com/latest/environments/"
   ]
  },
  {
   "cell_type": "code",
   "execution_count": null,
   "id": "8d6492c8",
   "metadata": {},
   "outputs": [],
   "source": [
    "#!pip install ipyvizzu"
   ]
  },
  {
   "cell_type": "code",
   "execution_count": null,
   "id": "dd5c88be",
   "metadata": {},
   "outputs": [],
   "source": [
    "# Import components, add data to pandas data frame\n",
    "\n",
    "import pandas as pd\n",
    "from ipyvizzu import Chart, Data, Config, Style\n",
    "\n",
    "data_frame = pd.read_csv('https://raw.githubusercontent.com/vizzuhq/vizzu-workshops/main/2023-04-25-PyData-Seattle/data/worldpopulation.csv',\n",
    "                        dtype={'Year': str})\n",
    "data = Data()\n",
    "data.add_data_frame(data_frame)\n",
    "\n",
    "display(data_frame)"
   ]
  },
  {
   "cell_type": "code",
   "execution_count": null,
   "id": "0aa8575d",
   "metadata": {},
   "outputs": [],
   "source": [
    "# Create empty chart\n",
    "# Rerun this cell if you want to start over\n",
    "\n",
    "chart = Chart(width='100%', height='360px')\n",
    "\n",
    "chart.animate(data)"
   ]
  },
  {
   "cell_type": "code",
   "execution_count": null,
   "id": "19ef911d",
   "metadata": {
    "scrolled": false
   },
   "outputs": [],
   "source": [
    "chart.animate(\n",
    "# Use filtering\n",
    "    \n",
    "    Data.filter(\n",
    "        \"record.Region == 'Africa'\"  #'(record.Region == 'Africa' || record.Region == 'Asia') && record.Region == 'past' '\n",
    "    ),\n",
    "\n",
    "# Use a preset    \n",
    "    Config.stackedColumn({ #groupedColumn (stackedBy), groupedColumn (groupedBy), percentageArea (stackedBy), stream (stackedBy), violin (splittedBy)\n",
    "            'x': 'Year',\n",
    "            'y': 'Pop_Medium',\n",
    "            'stackedBy': 'Region',\n",
    "            'title': 'Population of Africa 1953-2018',\n",
    "        }),\n",
    "\n",
    "# Set custom style    \n",
    "    Style({ \n",
    "            'plot': {\n",
    "                'paddingLeft': '15em',\n",
    "                'marker': { 'label' :{ \n",
    "                    'position':'top', #bottom, \n",
    "                    'numberFormat' : 'prefixed',\n",
    "                    'maxFractionDigits' : '1',\n",
    "                    'numberScale':'shortScaleSymbolUS'\n",
    "                }},\n",
    "                     'xAxis': { 'label': { 'angle': '-45deg',  'numberScale':'shortScaleSymbolUS'}},\n",
    "                     'yAxis': { 'label': { 'numberScale':'shortScaleSymbolUS'}}  \n",
    "                },\n",
    "            #    'legend' : {'width' : '15em'},\n",
    "    })\n",
    ")\n",
    "\n",
    "chart.feature('tooltip', True)"
   ]
  },
  {
   "cell_type": "code",
   "execution_count": null,
   "id": "2a29cc73",
   "metadata": {},
   "outputs": [],
   "source": [
    "chart.animate(\n",
    "   Config.line({ #stackedColumn (stackedBy), groupedColumn (groupedBy), percentageArea (stackedBy), stream (stackedBy), violin (splittedBy)\n",
    "            'x': 'Year',\n",
    "            'y': 'Pop_Medium',\n",
    "            'dividedBy': 'Subregion',\n",
    "            'title': 'Population of Africa 1953-2018',\n",
    "        }),\n",
    ")"
   ]
  },
  {
   "cell_type": "code",
   "execution_count": null,
   "id": "4cce8004",
   "metadata": {},
   "outputs": [],
   "source": [
    "chart.animate(\n",
    "   Config.stackedColumn({ #stackedColumn (stackedBy), groupedColumn (groupedBy), percentageArea (stackedBy), stream (stackedBy), violin (splittedBy)\n",
    "            'x': 'Year',\n",
    "            'y': 'Pop_Medium',\n",
    "            'stackedBy': 'Subregion',\n",
    "            'title': 'Population of Africa 1953-2018 (%)',\n",
    "        }),\n",
    ")\n",
    "chart.feature('tooltip', True)"
   ]
  },
  {
   "cell_type": "code",
   "execution_count": null,
   "id": "03f053e7",
   "metadata": {},
   "outputs": [],
   "source": [
    "chart.animate(\n",
    "    Data.filter(None),\n",
    "    Config({\n",
    "        'title': 'Population of the World by Subregions (%)'\n",
    "    })\n",
    ")"
   ]
  }
 ],
 "metadata": {
  "kernelspec": {
   "display_name": "Python 3 (ipykernel)",
   "language": "python",
   "name": "python3"
  },
  "language_info": {
   "codemirror_mode": {
    "name": "ipython",
    "version": 3
   },
   "file_extension": ".py",
   "mimetype": "text/x-python",
   "name": "python",
   "nbconvert_exporter": "python",
   "pygments_lexer": "ipython3",
   "version": "3.9.12"
  }
 },
 "nbformat": 4,
 "nbformat_minor": 5
}
