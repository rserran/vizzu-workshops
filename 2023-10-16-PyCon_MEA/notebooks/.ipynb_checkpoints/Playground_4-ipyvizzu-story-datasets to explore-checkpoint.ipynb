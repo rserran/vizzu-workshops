{
 "cells": [
  {
   "cell_type": "markdown",
   "id": "54823069",
   "metadata": {},
   "source": [
    "#### ipyvizzu Playground 3 - Create Your Own ipyvizzu-story - with Sample Data Sets\n",
    "\n",
    "#### If you download this notebook, make sure to check out how to use it in your environment: https://ipyvizzu.vizzuhq.com/mkdocs/docs/environments/index.html"
   ]
  },
  {
   "cell_type": "code",
   "execution_count": null,
   "id": "8d6492c8",
   "metadata": {},
   "outputs": [],
   "source": [
    "#!pip install ipyvizzu\n",
    "#!pip install ipyvizzu-story"
   ]
  },
  {
   "cell_type": "code",
   "execution_count": null,
   "id": "dd5c88be",
   "metadata": {
    "scrolled": true
   },
   "outputs": [],
   "source": [
    "# Import components\n",
    "\n",
    "import pandas as pd\n",
    "from ipyvizzu import Chart, Data, Config, Style\n",
    "from ipyvizzustory import Story, Slide, Step"
   ]
  },
  {
   "cell_type": "code",
   "execution_count": null,
   "id": "82c39480",
   "metadata": {},
   "outputs": [],
   "source": [
    "# World Population Forecast by Country Data Set \n",
    "\n",
    "data_frame = pd.read_csv('https://raw.githubusercontent.com/vizzuhq/vizzu-workshops/main/2023-04-25-PyData-Seattle/data/worldpopulation.csv',\n",
    "                   dtype={'Year': str})\n",
    "display(data_frame)"
   ]
  },
  {
   "cell_type": "code",
   "execution_count": null,
   "id": "4b7e9e73",
   "metadata": {
    "scrolled": true
   },
   "outputs": [],
   "source": [
    "# Revenue by Music Format Data Set \n",
    "\n",
    "data_frame2 = pd.read_csv('https://raw.githubusercontent.com/vizzuhq/vizzu-workshops/main/2023-04-25-PyData-Seattle/data/music.csv',\n",
    "                   dtype={'Year': str})\n",
    "display(data_frame2)"
   ]
  },
  {
   "cell_type": "code",
   "execution_count": null,
   "id": "23881e27",
   "metadata": {
    "scrolled": true
   },
   "outputs": [],
   "source": [
    "# Tarantino Profane Words and Deaths by 538 Data Set \n",
    "\n",
    "data_frame3 = pd.read_csv('https://raw.githubusercontent.com/vizzuhq/vizzu-workshops/main/2023-04-25-PyData-Seattle/data/tarantino.csv',)\n",
    "display(data_frame3)"
   ]
  },
  {
   "cell_type": "code",
   "execution_count": null,
   "id": "ae0806fb",
   "metadata": {},
   "outputs": [],
   "source": [
    "# Superheros and Powers Data Sets - NOT USED BEFORE\n",
    "# Source: https://www.kaggle.com/datasets/claudiodavi/superhero-set\n",
    "\n",
    "data_frame4 = pd.read_csv('https://raw.githubusercontent.com/vizzuhq/vizzu-workshops/main/2023-04-25-PyData-Seattle/data/heroes_information.csv',)\n",
    "data_frame5 = pd.read_csv('https://raw.githubusercontent.com/vizzuhq/vizzu-workshops/main/2023-04-25-PyData-Seattle/data/super_hero_powers.csv',)\n",
    "display(data_frame4)\n",
    "display(data_frame5)"
   ]
  },
  {
   "cell_type": "code",
   "execution_count": null,
   "id": "040efa23",
   "metadata": {},
   "outputs": [],
   "source": [
    "# Titanic Data Set\n",
    "\n",
    "data_frame6 = pd.read_csv('https://raw.githubusercontent.com/vizzuhq/vizzu-workshops/main/2023-04-25-PyData-Seattle/data/titanic.csv',\n",
    "                         dtype={\"Pclass\": str})\n",
    "display(data_frame6)"
   ]
  },
  {
   "cell_type": "code",
   "execution_count": null,
   "id": "4e48989c",
   "metadata": {},
   "outputs": [],
   "source": [
    "# Add one of the data frames to the ipyvizzu-story Data object\n",
    "\n",
    "data = Data()\n",
    "data.add_data_frame(data_frame) #data_frame2"
   ]
  },
  {
   "cell_type": "code",
   "execution_count": null,
   "id": "db49fdeb",
   "metadata": {},
   "outputs": [],
   "source": [
    "# Set the style of the charts in the story\n",
    "\n",
    "style = Style({ \n",
    "            'plot': { \n",
    "                'marker': { 'label' :{ \n",
    "                    'position':'top',\n",
    "                    'numberFormat' : 'prefixed',\n",
    "                    'maxFractionDigits' : '1',\n",
    "                    'numberScale':'shortScaleSymbolUS'\n",
    "                }},\n",
    "                     'xAxis': { 'label': { 'angle': '-45deg',  'numberScale':'shortScaleSymbolUS'}},\n",
    "                     'yAxis': { 'label': { 'numberScale':'shortScaleSymbolUS'}} \n",
    "                },\n",
    "                'legend' : {'width' : '15%'},\n",
    "        })"
   ]
  },
  {
   "cell_type": "code",
   "execution_count": null,
   "id": "2f31af16",
   "metadata": {},
   "outputs": [],
   "source": [
    "# Create Story object, set size\n",
    "\n",
    "story = Story(data=data,style=style)\n",
    "story.set_feature('tooltip', True)\n",
    "story.set_size('100%', '400px')"
   ]
  },
  {
   "cell_type": "code",
   "execution_count": null,
   "id": "34463941",
   "metadata": {
    "scrolled": false
   },
   "outputs": [],
   "source": [
    "slide1 = Slide(\n",
    "    Step(\n",
    "        Config.area({ \n",
    "                'x': '',\n",
    "                'y': '',\n",
    "                'title': '',\n",
    "            })\n",
    "))\n",
    "\n",
    "story.add_slide(slide1)\n",
    "\n",
    "slide2 = Slide(\n",
    "    Step(\n",
    "        Config.stackedArea({ #stackedColumn (stackedBy), groupedColumn (groupedBy), percentageArea (stackedBy), stream (stackedBy), violin (splittedBy)\n",
    "                'x': '',\n",
    "                'y': '',\n",
    "                'stackedBy': '',\n",
    "                'title': '',\n",
    "        }),\n",
    "))\n",
    "\n",
    "story.add_slide(slide2)\n",
    "\n",
    "story.play()"
   ]
  },
  {
   "cell_type": "code",
   "execution_count": null,
   "id": "3ae21ee3",
   "metadata": {},
   "outputs": [],
   "source": [
    "# Export the story as an HTML file\n",
    "\n",
    "# story.export_to_html(filename='my-ipyvizzu-story.html')"
   ]
  }
 ],
 "metadata": {
  "kernelspec": {
   "display_name": "Python 3 (ipykernel)",
   "language": "python",
   "name": "python3"
  },
  "language_info": {
   "codemirror_mode": {
    "name": "ipython",
    "version": 3
   },
   "file_extension": ".py",
   "mimetype": "text/x-python",
   "name": "python",
   "nbconvert_exporter": "python",
   "pygments_lexer": "ipython3",
   "version": "3.9.12"
  }
 },
 "nbformat": 4,
 "nbformat_minor": 5
}
